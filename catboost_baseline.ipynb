{
 "cells": [
  {
   "cell_type": "code",
   "outputs": [
    {
     "name": "stdout",
     "output_type": "stream",
     "text": [
      "The history saving thread hit an unexpected error (OperationalError('attempt to write a readonly database')).History will not be written to the database.\n"
     ]
    }
   ],
   "source": [
    "import pandas as pd\n",
    "\n",
    "import optuna\n",
    "from catboost import CatBoostRanker, Pool\n",
    "from scipy.stats import spearmanr, kendalltau\n",
    "\n",
    "from tools import train_valid_test_split, calculate_ndcg_per_query"
   ],
   "metadata": {
    "collapsed": false,
    "ExecuteTime": {
     "end_time": "2024-04-29T15:37:43.691144817Z",
     "start_time": "2024-04-29T15:37:43.453313351Z"
    }
   },
   "id": "7ba013e40bef8a30",
   "execution_count": 1
  },
  {
   "cell_type": "code",
   "outputs": [],
   "source": [
    "pca_20_features = \"data/pca_20_features.csv\""
   ],
   "metadata": {
    "collapsed": false,
    "ExecuteTime": {
     "end_time": "2024-04-29T15:37:43.714359403Z",
     "start_time": "2024-04-29T15:37:43.678990270Z"
    }
   },
   "id": "90543f690192d9d2",
   "execution_count": 2
  },
  {
   "cell_type": "code",
   "outputs": [],
   "source": [
    "data_df = pd.read_csv(pca_20_features)"
   ],
   "metadata": {
    "collapsed": false,
    "ExecuteTime": {
     "end_time": "2024-04-29T15:37:44.715341431Z",
     "start_time": "2024-04-29T15:37:43.679180739Z"
    }
   },
   "id": "a7ddad1456689336",
   "execution_count": 3
  },
  {
   "cell_type": "markdown",
   "source": [
    "## Test/Train Split"
   ],
   "metadata": {
    "collapsed": false
   },
   "id": "4c865e8d599795b7"
  },
  {
   "cell_type": "code",
   "outputs": [],
   "source": [
    "train_data, valid_data, test_data = train_valid_test_split(data_df, test_size=0.10, valid_size=0.10)"
   ],
   "metadata": {
    "collapsed": false,
    "ExecuteTime": {
     "end_time": "2024-04-29T15:37:44.751837304Z",
     "start_time": "2024-04-29T15:37:44.718654692Z"
    }
   },
   "id": "ad2ee560a3a9c8a8",
   "execution_count": 4
  },
  {
   "cell_type": "code",
   "outputs": [],
   "source": [
    "to_drop = [\"rank\", \"query_id\"]\n",
    "\n",
    "X_train = train_data.drop(to_drop, axis=1)\n",
    "y_train = train_data[\"rank\"]\n",
    "\n",
    "X_valid = valid_data.drop(to_drop, axis=1)\n",
    "y_valid = valid_data[\"rank\"]\n",
    "\n",
    "X_test = test_data.drop(to_drop, axis=1)\n",
    "y_test = test_data[[\"query_id\", \"rank\"]]  # query_id for ndcg score calculation"
   ],
   "metadata": {
    "collapsed": true,
    "ExecuteTime": {
     "end_time": "2024-04-29T15:37:44.769054663Z",
     "start_time": "2024-04-29T15:37:44.752719263Z"
    }
   },
   "id": "initial_id",
   "execution_count": 5
  },
  {
   "cell_type": "code",
   "outputs": [
    {
     "data": {
      "text/plain": "((190164, 20), (22534, 20), (22560, 20), (190164,), (22534,), (22560, 2))"
     },
     "execution_count": 6,
     "metadata": {},
     "output_type": "execute_result"
    }
   ],
   "source": [
    "X_train.shape, X_valid.shape, X_test.shape, y_train.shape, y_valid.shape, y_test.shape"
   ],
   "metadata": {
    "collapsed": false,
    "ExecuteTime": {
     "end_time": "2024-04-29T15:37:44.789924130Z",
     "start_time": "2024-04-29T15:37:44.772760296Z"
    }
   },
   "id": "58f51fc9b2259a39",
   "execution_count": 6
  },
  {
   "cell_type": "code",
   "outputs": [],
   "source": [
    "train_pool = Pool(data=X_train, label=y_train, group_id=train_data[\"query_id\"])\n",
    "valid_pool = Pool(data=X_valid, label=y_valid, group_id=valid_data[\"query_id\"])\n",
    "test_pool = Pool(data=X_test, label=y_test, group_id=test_data[\"query_id\"])"
   ],
   "metadata": {
    "collapsed": false,
    "ExecuteTime": {
     "end_time": "2024-04-29T15:37:44.831762123Z",
     "start_time": "2024-04-29T15:37:44.829547903Z"
    }
   },
   "id": "ec35083af25a4e06",
   "execution_count": 7
  },
  {
   "cell_type": "markdown",
   "source": [
    "## Catboost Baseline Model"
   ],
   "metadata": {
    "collapsed": false
   },
   "id": "8984a726f0b1b78d"
  },
  {
   "cell_type": "code",
   "outputs": [],
   "source": [
    "def objective(trial):\n",
    "    param = {\n",
    "        \"iterations\": trial.suggest_int(\"iterations\", 300, 800),\n",
    "        \"learning_rate\": trial.suggest_float(\"learning_rate\", 0.01, 0.1),\n",
    "        \"depth\": trial.suggest_int(\"depth\", 4, 8),\n",
    "        \"l2_leaf_reg\": trial.suggest_int(\"l2_leaf_reg\", 5, 15)\n",
    "    }\n",
    "    \n",
    "    model = CatBoostRanker(loss_function=\"YetiRank\", **param)\n",
    "    model.fit(train_pool, eval_set=valid_pool, verbose=False)\n",
    "    \n",
    "    predictions = model.predict(test_pool)\n",
    "    mean_ndcg = calculate_ndcg_per_query(y_test, predictions, k=30, pct_k=0.2)\n",
    "    return mean_ndcg"
   ],
   "metadata": {
    "collapsed": false,
    "ExecuteTime": {
     "end_time": "2024-04-29T15:37:44.841898276Z",
     "start_time": "2024-04-29T15:37:44.835479996Z"
    }
   },
   "id": "48680abf7986cce3",
   "execution_count": 8
  },
  {
   "cell_type": "code",
   "outputs": [],
   "source": [
    "is_study = False\n",
    "\n",
    "if is_study:\n",
    "    study = optuna.create_study(direction=\"maximize\")\n",
    "    study.optimize(objective, n_trials=50)\n",
    "    \n",
    "    print(\"Best trial:\")\n",
    "    best_trial = study.best_trial\n",
    "    \n",
    "    print(f\"NDCG: {best_trial.value}\")\n",
    "    print(\"Best hyperparameters:\")\n",
    "    print(best_trial.params)"
   ],
   "metadata": {
    "collapsed": false,
    "ExecuteTime": {
     "end_time": "2024-04-29T15:37:44.883173913Z",
     "start_time": "2024-04-29T15:37:44.839632053Z"
    }
   },
   "id": "4f7b55987ab8903c",
   "execution_count": 9
  },
  {
   "cell_type": "markdown",
   "source": [
    "## Рассчёт Метрик\n",
    "Возьмём модель с лучшими параметрами и посчитаем пару метрик."
   ],
   "metadata": {
    "collapsed": false
   },
   "id": "739d392fa5c91666"
  },
  {
   "cell_type": "code",
   "outputs": [],
   "source": [
    "best_args = {\"iterations\": 480, \"learning_rate\": 0.09, \"depth\": 5, \"l2_leaf_reg\": 10}\n",
    "model = CatBoostRanker(loss_function=\"YetiRank\", **best_args)"
   ],
   "metadata": {
    "collapsed": false,
    "ExecuteTime": {
     "end_time": "2024-04-29T15:37:44.883947909Z",
     "start_time": "2024-04-29T15:37:44.883060624Z"
    }
   },
   "id": "8940864e4baeadfa",
   "execution_count": 10
  },
  {
   "cell_type": "code",
   "outputs": [
    {
     "data": {
      "text/plain": "<catboost.core.CatBoostRanker at 0x7a2e1ccdf050>"
     },
     "execution_count": 11,
     "metadata": {},
     "output_type": "execute_result"
    }
   ],
   "source": [
    "model.fit(train_pool, eval_set=valid_pool, verbose=False)"
   ],
   "metadata": {
    "collapsed": false,
    "ExecuteTime": {
     "end_time": "2024-04-29T15:38:51.940210702Z",
     "start_time": "2024-04-29T15:37:44.883263394Z"
    }
   },
   "id": "b6832333c2483811",
   "execution_count": 11
  },
  {
   "cell_type": "code",
   "outputs": [],
   "source": [
    "predict = model.predict(test_pool)"
   ],
   "metadata": {
    "collapsed": false,
    "ExecuteTime": {
     "end_time": "2024-04-29T15:38:51.940863539Z",
     "start_time": "2024-04-29T15:38:51.939008627Z"
    }
   },
   "id": "5806afca5ebc4ac8",
   "execution_count": 12
  },
  {
   "cell_type": "code",
   "outputs": [],
   "source": [
    "spearman_corr = spearmanr(y_test[\"rank\"].values, predict).correlation\n",
    "kendall_corr = kendalltau(y_test[\"rank\"].values, predict).correlation\n",
    "ndcg_1 = calculate_ndcg_per_query(y_test, predict, k=1)\n",
    "ndcg_5 = calculate_ndcg_per_query(y_test, predict, k=5)\n",
    "ndcg_30 = calculate_ndcg_per_query(y_test, predict, k=30)\n",
    "ndcg_pct_20 = calculate_ndcg_per_query(y_test, predict, k=30, pct_k=0.2)\n",
    "ndcg_pct_50 = calculate_ndcg_per_query(y_test, predict, k=30, pct_k=0.5)\n",
    "ndcg_pct_100 = calculate_ndcg_per_query(y_test, predict, k=30, pct_k=1)"
   ],
   "metadata": {
    "collapsed": false,
    "ExecuteTime": {
     "end_time": "2024-04-29T15:38:52.513737462Z",
     "start_time": "2024-04-29T15:38:51.939199998Z"
    }
   },
   "id": "7e65300a824ca7dc",
   "execution_count": 13
  },
  {
   "cell_type": "code",
   "outputs": [
    {
     "name": "stdout",
     "output_type": "stream",
     "text": [
      "Spearman correlation: 0.36764885237647704\n",
      "Kendall correlation: 0.28842293201453717\n",
      "NDCG@1: 0.46608040201005024\n",
      "NDCG@5: 0.47767284239885016\n",
      "NDCG@30: 0.5385616866419879\n",
      "NDCG pct=0.2: 0.5396160280607956\n",
      "NDCG pct=0.5: 0.5957256525216853\n",
      "NDCG pct=1: 0.7426640507382953\n"
     ]
    }
   ],
   "source": [
    "print(f\"Spearman correlation: {spearman_corr}\")\n",
    "print(f\"Kendall correlation: {kendall_corr}\")\n",
    "print(f\"NDCG@1: {ndcg_1}\")\n",
    "print(f\"NDCG@5: {ndcg_5}\")\n",
    "print(f\"NDCG@30: {ndcg_30}\")\n",
    "print(f\"NDCG pct=0.2: {ndcg_pct_20}\")\n",
    "print(f\"NDCG pct=0.5: {ndcg_pct_50}\")\n",
    "print(f\"NDCG pct=1: {ndcg_pct_100}\")"
   ],
   "metadata": {
    "collapsed": false,
    "ExecuteTime": {
     "end_time": "2024-04-29T15:38:52.527743694Z",
     "start_time": "2024-04-29T15:38:52.515978788Z"
    }
   },
   "id": "e4bcef13efc0813f",
   "execution_count": 14
  },
  {
   "cell_type": "markdown",
   "source": [
    "Корреляции положительные, однако относительно небольшие.\n",
    "Из NDCG метрик можно сделать вывод, что модель не очень хорошо ранжирует документы. С увеличением числа документов - растёт метрика.\n",
    "Думаю, что дисбаланс классов достаточно сильно влияет на результаты.\n",
    "\n",
    "Что можно было бы еще сделать:\n",
    "1. Посчитать метрики для моделей классификации (f1, precision, recall, roc-auc), чтобы отдельно оценить точность определения конкретного ранга.\n",
    "2. Учесть дисбаланс классов: попробовать oversampling/undersampling, или применить другой алгоритм машинного обучения, который поддерживает взвешивание классов."
   ],
   "metadata": {
    "collapsed": false
   },
   "id": "97c6226636898668"
  },
  {
   "cell_type": "markdown",
   "source": [],
   "metadata": {
    "collapsed": false
   },
   "id": "bbe34767209493b9"
  }
 ],
 "metadata": {
  "kernelspec": {
   "display_name": "Python 3",
   "language": "python",
   "name": "python3"
  },
  "language_info": {
   "codemirror_mode": {
    "name": "ipython",
    "version": 2
   },
   "file_extension": ".py",
   "mimetype": "text/x-python",
   "name": "python",
   "nbconvert_exporter": "python",
   "pygments_lexer": "ipython2",
   "version": "2.7.6"
  }
 },
 "nbformat": 4,
 "nbformat_minor": 5
}
