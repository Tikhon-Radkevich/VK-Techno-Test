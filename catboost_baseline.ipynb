{
 "cells": [
  {
   "cell_type": "code",
   "outputs": [],
   "source": [
    "import pandas as pd\n",
    "import numpy as np"
   ],
   "metadata": {
    "collapsed": false,
    "ExecuteTime": {
     "end_time": "2024-04-23T18:57:48.325191154Z",
     "start_time": "2024-04-23T18:57:48.313896863Z"
    }
   },
   "id": "7ba013e40bef8a30",
   "execution_count": 83
  },
  {
   "cell_type": "code",
   "outputs": [],
   "source": [
    "data_path = \"data/intern_task.csv\""
   ],
   "metadata": {
    "collapsed": false,
    "ExecuteTime": {
     "end_time": "2024-04-23T18:57:48.699430306Z",
     "start_time": "2024-04-23T18:57:48.693447611Z"
    }
   },
   "id": "90543f690192d9d2",
   "execution_count": 84
  },
  {
   "cell_type": "code",
   "outputs": [],
   "source": [
    "df = pd.read_csv(data_path)"
   ],
   "metadata": {
    "collapsed": false,
    "ExecuteTime": {
     "end_time": "2024-04-23T18:57:52.844732728Z",
     "start_time": "2024-04-23T18:57:49.078400626Z"
    }
   },
   "id": "a7ddad1456689336",
   "execution_count": 85
  },
  {
   "cell_type": "markdown",
   "source": [
    "## Test/Train Split"
   ],
   "metadata": {
    "collapsed": false
   },
   "id": "4c865e8d599795b7"
  },
  {
   "cell_type": "code",
   "outputs": [],
   "source": [
    "unique_query_ids = df[\"query_id\"].unique()\n",
    "\n",
    "test_query_ids = np.random.choice(unique_query_ids, size=200, replace=False)"
   ],
   "metadata": {
    "collapsed": false,
    "ExecuteTime": {
     "end_time": "2024-04-23T18:57:52.855884741Z",
     "start_time": "2024-04-23T18:57:52.843228747Z"
    }
   },
   "id": "667961de6abd1aac",
   "execution_count": 86
  },
  {
   "cell_type": "code",
   "outputs": [
    {
     "data": {
      "text/plain": "((213394, 144), (21864, 144), (213394,), (21864,))"
     },
     "execution_count": 87,
     "metadata": {},
     "output_type": "execute_result"
    }
   ],
   "source": [
    "train_data = df[~df[\"query_id\"].isin(test_query_ids)]\n",
    "test_data = df[df[\"query_id\"].isin(test_query_ids)]\n",
    "\n",
    "X_train = train_data.drop([\"rank\", \"query_id\"], axis=1)\n",
    "y_train = train_data[\"rank\"]\n",
    "X_test = test_data.drop([\"rank\", \"query_id\"], axis=1)\n",
    "y_test = test_data[\"rank\"]\n",
    "\n",
    "X_train.shape, X_test.shape, y_train.shape, y_test.shape"
   ],
   "metadata": {
    "collapsed": true,
    "ExecuteTime": {
     "end_time": "2024-04-23T18:57:53.008338798Z",
     "start_time": "2024-04-23T18:57:52.850649478Z"
    }
   },
   "id": "initial_id",
   "execution_count": 87
  },
  {
   "cell_type": "markdown",
   "source": [
    "## Catboost Baseline Model"
   ],
   "metadata": {
    "collapsed": false
   },
   "id": "8984a726f0b1b78d"
  },
  {
   "cell_type": "code",
   "outputs": [],
   "source": [
    "from catboost import CatBoostRanker, Pool\n",
    "from sklearn.metrics import ndcg_score"
   ],
   "metadata": {
    "collapsed": false,
    "ExecuteTime": {
     "end_time": "2024-04-23T18:57:53.008738415Z",
     "start_time": "2024-04-23T18:57:52.994530760Z"
    }
   },
   "id": "354ceb32b3cf1c16",
   "execution_count": 88
  },
  {
   "cell_type": "code",
   "outputs": [],
   "source": [
    "train_pool = Pool(data=X_train, label=y_train, group_id=train_data[\"query_id\"])\n",
    "test_pool = Pool(data=X_test, label=y_test, group_id=test_data[\"query_id\"])"
   ],
   "metadata": {
    "collapsed": false,
    "ExecuteTime": {
     "end_time": "2024-04-23T18:57:53.127784002Z",
     "start_time": "2024-04-23T18:57:52.994685613Z"
    }
   },
   "id": "ace81c0583859a88",
   "execution_count": 89
  },
  {
   "cell_type": "code",
   "outputs": [],
   "source": [
    "model = CatBoostRanker(\n",
    "    iterations=20,\n",
    "    learning_rate=0.05,\n",
    "    depth=6,\n",
    "    loss_function=\"PairLogit\",\n",
    "    verbose=True,\n",
    "    # logging_level=\"Info\"\n",
    ")"
   ],
   "metadata": {
    "collapsed": false,
    "ExecuteTime": {
     "end_time": "2024-04-23T18:57:53.133899738Z",
     "start_time": "2024-04-23T18:57:53.127950818Z"
    }
   },
   "id": "4f7b55987ab8903c",
   "execution_count": 90
  },
  {
   "cell_type": "code",
   "outputs": [
    {
     "name": "stdout",
     "output_type": "stream",
     "text": [
      "0:\tlearn: 0.6903791\ttotal: 3.14s\tremaining: 59.7s\n",
      "1:\tlearn: 0.6880120\ttotal: 6.17s\tremaining: 55.5s\n",
      "2:\tlearn: 0.6859358\ttotal: 9.22s\tremaining: 52.2s\n",
      "3:\tlearn: 0.6838785\ttotal: 12.1s\tremaining: 48.3s\n",
      "4:\tlearn: 0.6822511\ttotal: 15s\tremaining: 44.9s\n",
      "5:\tlearn: 0.6807422\ttotal: 18s\tremaining: 41.9s\n",
      "6:\tlearn: 0.6791770\ttotal: 21.1s\tremaining: 39.1s\n",
      "7:\tlearn: 0.6779365\ttotal: 24.1s\tremaining: 36.2s\n",
      "8:\tlearn: 0.6768193\ttotal: 27s\tremaining: 33s\n",
      "9:\tlearn: 0.6755665\ttotal: 30s\tremaining: 30s\n",
      "10:\tlearn: 0.6741296\ttotal: 32.9s\tremaining: 26.9s\n",
      "11:\tlearn: 0.6730714\ttotal: 35.8s\tremaining: 23.9s\n",
      "12:\tlearn: 0.6721256\ttotal: 38.5s\tremaining: 20.8s\n",
      "13:\tlearn: 0.6712193\ttotal: 41.2s\tremaining: 17.7s\n",
      "14:\tlearn: 0.6702518\ttotal: 44s\tremaining: 14.7s\n",
      "15:\tlearn: 0.6693308\ttotal: 46.8s\tremaining: 11.7s\n",
      "16:\tlearn: 0.6678282\ttotal: 49.5s\tremaining: 8.73s\n",
      "17:\tlearn: 0.6666478\ttotal: 52.5s\tremaining: 5.83s\n",
      "18:\tlearn: 0.6656683\ttotal: 55.3s\tremaining: 2.91s\n",
      "19:\tlearn: 0.6651423\ttotal: 58.1s\tremaining: 0us\n"
     ]
    },
    {
     "data": {
      "text/plain": "<catboost.core.CatBoostRanker at 0x7dc75c9a8490>"
     },
     "execution_count": 91,
     "metadata": {},
     "output_type": "execute_result"
    }
   ],
   "source": [
    "model.fit(train_pool)"
   ],
   "metadata": {
    "collapsed": false,
    "ExecuteTime": {
     "end_time": "2024-04-23T18:58:52.091230917Z",
     "start_time": "2024-04-23T18:57:53.135308591Z"
    }
   },
   "id": "e726d5ef4041c00",
   "execution_count": 91
  },
  {
   "cell_type": "code",
   "outputs": [
    {
     "data": {
      "text/plain": "0.9038129888198401"
     },
     "execution_count": 92,
     "metadata": {},
     "output_type": "execute_result"
    }
   ],
   "source": [
    "predictions = model.predict(test_pool)\n",
    "\n",
    "def calculate_ndcg(y_true, y_pred, k=10):\n",
    "    ndcg = ndcg_score([y_true], [y_pred], k=k)\n",
    "    return ndcg\n",
    "\n",
    "ndcg_value = calculate_ndcg(y_test, predictions, k=None)\n",
    "ndcg_value"
   ],
   "metadata": {
    "collapsed": false,
    "ExecuteTime": {
     "end_time": "2024-04-23T18:58:52.154979094Z",
     "start_time": "2024-04-23T18:58:52.091314373Z"
    }
   },
   "id": "78be318e1c1a53f4",
   "execution_count": 92
  },
  {
   "cell_type": "code",
   "outputs": [
    {
     "data": {
      "text/plain": "1.0"
     },
     "execution_count": 93,
     "metadata": {},
     "output_type": "execute_result"
    }
   ],
   "source": [
    "ndcg_score([[1, 2], [2, 4]], [[1, 3], [1, 2]], k=1)"
   ],
   "metadata": {
    "collapsed": false,
    "ExecuteTime": {
     "end_time": "2024-04-23T18:58:52.156319437Z",
     "start_time": "2024-04-23T18:58:52.120471087Z"
    }
   },
   "id": "4d34f0cf764acdf2",
   "execution_count": 93
  },
  {
   "cell_type": "code",
   "outputs": [
    {
     "data": {
      "text/plain": "array([-0.17428641,  0.24795866, -0.07610835, ...,  0.18993445,\n        0.30776963,  0.21973099])"
     },
     "execution_count": 94,
     "metadata": {},
     "output_type": "execute_result"
    }
   ],
   "source": [
    "predictions"
   ],
   "metadata": {
    "collapsed": false,
    "ExecuteTime": {
     "end_time": "2024-04-23T18:58:52.157869878Z",
     "start_time": "2024-04-23T18:58:52.126563159Z"
    }
   },
   "id": "591a1859d1f35fd2",
   "execution_count": 94
  },
  {
   "cell_type": "code",
   "outputs": [],
   "source": [],
   "metadata": {
    "collapsed": false
   },
   "id": "b6832333c2483811"
  }
 ],
 "metadata": {
  "kernelspec": {
   "display_name": "Python 3",
   "language": "python",
   "name": "python3"
  },
  "language_info": {
   "codemirror_mode": {
    "name": "ipython",
    "version": 2
   },
   "file_extension": ".py",
   "mimetype": "text/x-python",
   "name": "python",
   "nbconvert_exporter": "python",
   "pygments_lexer": "ipython2",
   "version": "2.7.6"
  }
 },
 "nbformat": 4,
 "nbformat_minor": 5
}
