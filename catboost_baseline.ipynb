{
 "cells": [
  {
   "cell_type": "code",
   "outputs": [],
   "source": [
    "import pandas as pd\n",
    "import numpy as np\n",
    "\n",
    "import optuna\n",
    "from catboost import CatBoostRanker, Pool\n",
    "from sklearn.metrics import ndcg_score"
   ],
   "metadata": {
    "collapsed": false,
    "ExecuteTime": {
     "end_time": "2024-04-27T12:12:04.500319520Z",
     "start_time": "2024-04-27T12:12:04.447112179Z"
    }
   },
   "id": "7ba013e40bef8a30",
   "execution_count": 78
  },
  {
   "cell_type": "code",
   "outputs": [],
   "source": [
    "cleaned_data = \"data/cleaned_data.csv\"\n",
    "pca_20_features = \"data/pca_20_features.csv\""
   ],
   "metadata": {
    "collapsed": false,
    "ExecuteTime": {
     "end_time": "2024-04-27T11:43:32.466956790Z",
     "start_time": "2024-04-27T11:43:32.462388824Z"
    }
   },
   "id": "90543f690192d9d2",
   "execution_count": 18
  },
  {
   "cell_type": "code",
   "outputs": [],
   "source": [
    "cleaned_data_df = pd.read_csv(cleaned_data)\n",
    "pca_20_features_df = pd.read_csv(pca_20_features)"
   ],
   "metadata": {
    "collapsed": false,
    "ExecuteTime": {
     "end_time": "2024-04-27T12:13:05.839668554Z",
     "start_time": "2024-04-27T12:13:02.240179962Z"
    }
   },
   "id": "a7ddad1456689336",
   "execution_count": 79
  },
  {
   "cell_type": "code",
   "outputs": [],
   "source": [
    "data_df = cleaned_data_df"
   ],
   "metadata": {
    "collapsed": false,
    "ExecuteTime": {
     "end_time": "2024-04-27T12:13:15.164181631Z",
     "start_time": "2024-04-27T12:13:15.146859659Z"
    }
   },
   "id": "68012f2ab25a468c",
   "execution_count": 80
  },
  {
   "cell_type": "markdown",
   "source": [
    "## Test/Train Split"
   ],
   "metadata": {
    "collapsed": false
   },
   "id": "4c865e8d599795b7"
  },
  {
   "cell_type": "code",
   "outputs": [],
   "source": [
    "def test_train_split(df, test_size=0.2):\n",
    "    # drop top 6 longest queries from test set\n",
    "    unique_query_ids = df.value_counts(\"query_id\").sort_values(ascending=False)[6:].keys().values\n",
    "\n",
    "    test_query_ids = np.random.choice(unique_query_ids, size=int(test_size * len(unique_query_ids)), replace=False)\n",
    "    \n",
    "    train = df[~df[\"query_id\"].isin(test_query_ids)]\n",
    "    test = df[df[\"query_id\"].isin(test_query_ids)]\n",
    "    \n",
    "    return train, test"
   ],
   "metadata": {
    "collapsed": false,
    "ExecuteTime": {
     "end_time": "2024-04-27T12:13:17.228547189Z",
     "start_time": "2024-04-27T12:13:17.221377939Z"
    }
   },
   "id": "667961de6abd1aac",
   "execution_count": 81
  },
  {
   "cell_type": "code",
   "outputs": [
    {
     "data": {
      "text/plain": "((210584, 137), (24674, 137), (210584,), (24674,))"
     },
     "execution_count": 82,
     "metadata": {},
     "output_type": "execute_result"
    }
   ],
   "source": [
    "train_data, test_data = test_train_split(data_df, test_size=0.10)\n",
    "\n",
    "X_train = train_data.drop([\"rank\", \"query_id\"], axis=1)\n",
    "y_train = train_data[\"rank\"]\n",
    "X_test = test_data.drop([\"rank\", \"query_id\"], axis=1)\n",
    "y_test = test_data[\"rank\"]\n",
    "\n",
    "X_train.shape, X_test.shape, y_train.shape, y_test.shape"
   ],
   "metadata": {
    "collapsed": true,
    "ExecuteTime": {
     "end_time": "2024-04-27T12:13:17.579024666Z",
     "start_time": "2024-04-27T12:13:17.445575671Z"
    }
   },
   "id": "initial_id",
   "execution_count": 82
  },
  {
   "cell_type": "code",
   "outputs": [],
   "source": [
    "train_pool = Pool(data=X_train, label=y_train, group_id=train_data[\"query_id\"])\n",
    "test_pool = Pool(data=X_test, label=y_test, group_id=test_data[\"query_id\"])"
   ],
   "metadata": {
    "collapsed": false,
    "ExecuteTime": {
     "end_time": "2024-04-27T12:13:18.458869225Z",
     "start_time": "2024-04-27T12:13:18.438043965Z"
    }
   },
   "id": "ec35083af25a4e06",
   "execution_count": 83
  },
  {
   "cell_type": "markdown",
   "source": [
    "## Catboost Baseline Model"
   ],
   "metadata": {
    "collapsed": false
   },
   "id": "8984a726f0b1b78d"
  },
  {
   "cell_type": "code",
   "outputs": [],
   "source": [
    "def calculate_ndcg_per_query(test_data, predictions, k=5):\n",
    "    test_data_with_preds = test_data.copy()\n",
    "    test_data_with_preds[\"preds\"] = predictions\n",
    "\n",
    "    ndcg_scores = []\n",
    "    for query_id, group in test_data_with_preds.groupby(\"query_id\"):\n",
    "        y_true = group[\"rank\"].tolist()\n",
    "        y_pred = group[\"preds\"].tolist()\n",
    "        ndcg = ndcg_score([y_true], [y_pred], k=k)\n",
    "        ndcg_scores.append(ndcg)\n",
    "\n",
    "    return np.mean(ndcg_scores)"
   ],
   "metadata": {
    "collapsed": false,
    "ExecuteTime": {
     "end_time": "2024-04-27T12:13:20.685894506Z",
     "start_time": "2024-04-27T12:13:20.678225947Z"
    }
   },
   "id": "f42e7688026e88f3",
   "execution_count": 84
  },
  {
   "cell_type": "code",
   "outputs": [],
   "source": [
    "def objective(trial):\n",
    "    \"\"\"\n",
    "    \"iterations\", 100, 500\n",
    "    \"learning_rate\", 0.01, 0.1\n",
    "    \"depth\", 4, 10\n",
    "    \"l2_leaf_reg\", 3, 10\n",
    "    \n",
    "    best:\n",
    "    param >>> {'iterations': 477, 'learning_rate': 0.09038144015024499, 'depth': 5, 'l2_leaf_reg': 10}\n",
    "    value: 0.5728842563444173\n",
    "    \"\"\"\n",
    "    param = {\n",
    "        \"iterations\": trial.suggest_int(\"iterations\", 100, 500),\n",
    "        \"learning_rate\": trial.suggest_float(\"learning_rate\", 0.01, 0.1),\n",
    "        \"depth\": trial.suggest_int(\"depth\", 4, 10),\n",
    "        \"l2_leaf_reg\": trial.suggest_int(\"l2_leaf_reg\", 3, 10)\n",
    "    }\n",
    "    \n",
    "    model = CatBoostRanker(loss_function=\"YetiRank\", **param)\n",
    "    \n",
    "    model.fit(train_pool, eval_set=test_pool, verbose=False)\n",
    "    \n",
    "    predictions = model.predict(test_pool)\n",
    "    mean_ndcg = calculate_ndcg_per_query(test_data, predictions, k=5)\n",
    "    \n",
    "    return mean_ndcg"
   ],
   "metadata": {
    "collapsed": false,
    "ExecuteTime": {
     "end_time": "2024-04-27T12:13:21.142398060Z",
     "start_time": "2024-04-27T12:13:21.128452971Z"
    }
   },
   "id": "48680abf7986cce3",
   "execution_count": 85
  },
  {
   "cell_type": "code",
   "outputs": [
    {
     "name": "stderr",
     "output_type": "stream",
     "text": [
      "[I 2024-04-27 15:13:40,716] A new study created in memory with name: no-name-79ea1dc7-3f5d-4d05-b17f-d107e789a022\n",
      "[I 2024-04-27 15:14:42,245] Trial 0 finished with value: 0.5475602654752842 and parameters: {'iterations': 314, 'learning_rate': 0.03409210259383675, 'depth': 8, 'l2_leaf_reg': 8}. Best is trial 0 with value: 0.5475602654752842.\n",
      "[I 2024-04-27 15:15:37,371] Trial 1 finished with value: 0.5462465989412176 and parameters: {'iterations': 266, 'learning_rate': 0.035982763916144904, 'depth': 8, 'l2_leaf_reg': 10}. Best is trial 0 with value: 0.5475602654752842.\n",
      "[I 2024-04-27 15:16:39,903] Trial 2 finished with value: 0.5290153597282474 and parameters: {'iterations': 388, 'learning_rate': 0.010607212682221714, 'depth': 5, 'l2_leaf_reg': 3}. Best is trial 0 with value: 0.5475602654752842.\n",
      "[I 2024-04-27 15:17:16,362] Trial 3 finished with value: 0.5509663339468761 and parameters: {'iterations': 189, 'learning_rate': 0.06310529271532768, 'depth': 8, 'l2_leaf_reg': 7}. Best is trial 3 with value: 0.5509663339468761.\n",
      "[I 2024-04-27 15:18:18,032] Trial 4 finished with value: 0.5718297531852934 and parameters: {'iterations': 396, 'learning_rate': 0.07491468325780183, 'depth': 4, 'l2_leaf_reg': 10}. Best is trial 4 with value: 0.5718297531852934.\n",
      "[I 2024-04-27 15:19:34,456] Trial 5 finished with value: 0.5692531237403136 and parameters: {'iterations': 494, 'learning_rate': 0.07692516703827829, 'depth': 4, 'l2_leaf_reg': 7}. Best is trial 4 with value: 0.5718297531852934.\n",
      "[I 2024-04-27 15:20:14,429] Trial 6 finished with value: 0.5569780637303945 and parameters: {'iterations': 258, 'learning_rate': 0.04149734959190709, 'depth': 5, 'l2_leaf_reg': 5}. Best is trial 4 with value: 0.5718297531852934.\n",
      "[I 2024-04-27 15:20:48,043] Trial 7 finished with value: 0.5423322590269299 and parameters: {'iterations': 220, 'learning_rate': 0.04243608428718428, 'depth': 4, 'l2_leaf_reg': 9}. Best is trial 4 with value: 0.5718297531852934.\n",
      "[I 2024-04-27 15:22:03,068] Trial 8 finished with value: 0.5392567626783528 and parameters: {'iterations': 406, 'learning_rate': 0.018158742397623467, 'depth': 8, 'l2_leaf_reg': 8}. Best is trial 4 with value: 0.5718297531852934.\n",
      "[I 2024-04-27 15:23:54,397] Trial 9 finished with value: 0.5505096244553944 and parameters: {'iterations': 348, 'learning_rate': 0.06216443714382193, 'depth': 10, 'l2_leaf_reg': 9}. Best is trial 4 with value: 0.5718297531852934.\n",
      "[I 2024-04-27 15:24:13,221] Trial 10 finished with value: 0.554355909881377 and parameters: {'iterations': 109, 'learning_rate': 0.09531090517369065, 'depth': 6, 'l2_leaf_reg': 5}. Best is trial 4 with value: 0.5718297531852934.\n",
      "[I 2024-04-27 15:25:29,411] Trial 11 finished with value: 0.5712878752019213 and parameters: {'iterations': 491, 'learning_rate': 0.08496357216004792, 'depth': 4, 'l2_leaf_reg': 6}. Best is trial 4 with value: 0.5718297531852934.\n",
      "[I 2024-04-27 15:26:50,554] Trial 12 finished with value: 0.5661691530056263 and parameters: {'iterations': 499, 'learning_rate': 0.0876120474498969, 'depth': 6, 'l2_leaf_reg': 5}. Best is trial 4 with value: 0.5718297531852934.\n",
      "[I 2024-04-27 15:28:00,341] Trial 13 finished with value: 0.5686574862646429 and parameters: {'iterations': 438, 'learning_rate': 0.07715478474121445, 'depth': 4, 'l2_leaf_reg': 6}. Best is trial 4 with value: 0.5718297531852934.\n",
      "[I 2024-04-27 15:29:17,086] Trial 14 finished with value: 0.5626707944419049 and parameters: {'iterations': 449, 'learning_rate': 0.07838714595956846, 'depth': 6, 'l2_leaf_reg': 3}. Best is trial 4 with value: 0.5718297531852934.\n",
      "[I 2024-04-27 15:30:14,099] Trial 15 finished with value: 0.5711063739637139 and parameters: {'iterations': 364, 'learning_rate': 0.09620490742226834, 'depth': 5, 'l2_leaf_reg': 10}. Best is trial 4 with value: 0.5718297531852934.\n",
      "[I 2024-04-27 15:32:35,164] Trial 16 finished with value: 0.5589308636300439 and parameters: {'iterations': 436, 'learning_rate': 0.06728740052939308, 'depth': 10, 'l2_leaf_reg': 6}. Best is trial 4 with value: 0.5718297531852934.\n",
      "[I 2024-04-27 15:33:55,229] Trial 17 finished with value: 0.5653055793949452 and parameters: {'iterations': 462, 'learning_rate': 0.05246961037012944, 'depth': 7, 'l2_leaf_reg': 4}. Best is trial 4 with value: 0.5718297531852934.\n",
      "[I 2024-04-27 15:34:48,188] Trial 18 finished with value: 0.5668929469813625 and parameters: {'iterations': 346, 'learning_rate': 0.08705181350318558, 'depth': 4, 'l2_leaf_reg': 8}. Best is trial 4 with value: 0.5718297531852934.\n",
      "[I 2024-04-27 15:35:52,426] Trial 19 finished with value: 0.5680819788058719 and parameters: {'iterations': 405, 'learning_rate': 0.07175614452484261, 'depth': 5, 'l2_leaf_reg': 9}. Best is trial 4 with value: 0.5718297531852934.\n",
      "[I 2024-04-27 15:37:14,258] Trial 20 finished with value: 0.5644467655370063 and parameters: {'iterations': 473, 'learning_rate': 0.08655533649189484, 'depth': 7, 'l2_leaf_reg': 7}. Best is trial 4 with value: 0.5718297531852934.\n",
      "[I 2024-04-27 15:38:13,736] Trial 21 finished with value: 0.5682641756078859 and parameters: {'iterations': 369, 'learning_rate': 0.09941703872078364, 'depth': 5, 'l2_leaf_reg': 10}. Best is trial 4 with value: 0.5718297531852934.\n",
      "[I 2024-04-27 15:39:03,393] Trial 22 finished with value: 0.5636030897122714 and parameters: {'iterations': 325, 'learning_rate': 0.09480028346152018, 'depth': 4, 'l2_leaf_reg': 10}. Best is trial 4 with value: 0.5718297531852934.\n",
      "[I 2024-04-27 15:40:10,668] Trial 23 finished with value: 0.5668290879661039 and parameters: {'iterations': 422, 'learning_rate': 0.0830913414446302, 'depth': 5, 'l2_leaf_reg': 9}. Best is trial 4 with value: 0.5718297531852934.\n",
      "[I 2024-04-27 15:41:05,227] Trial 24 finished with value: 0.5684801412720137 and parameters: {'iterations': 366, 'learning_rate': 0.09082771845785811, 'depth': 4, 'l2_leaf_reg': 10}. Best is trial 4 with value: 0.5718297531852934.\n",
      "[I 2024-04-27 15:41:47,536] Trial 25 finished with value: 0.5656649538127876 and parameters: {'iterations': 276, 'learning_rate': 0.0548852280792685, 'depth': 5, 'l2_leaf_reg': 6}. Best is trial 4 with value: 0.5718297531852934.\n",
      "[I 2024-04-27 15:42:48,728] Trial 26 finished with value: 0.5611415549821209 and parameters: {'iterations': 388, 'learning_rate': 0.09822839241774832, 'depth': 6, 'l2_leaf_reg': 8}. Best is trial 4 with value: 0.5718297531852934.\n",
      "[I 2024-04-27 15:43:40,306] Trial 27 finished with value: 0.5691061942142883 and parameters: {'iterations': 293, 'learning_rate': 0.07104801546340622, 'depth': 4, 'l2_leaf_reg': 4}. Best is trial 4 with value: 0.5718297531852934.\n",
      "[I 2024-04-27 15:44:56,427] Trial 28 finished with value: 0.5700561486668534 and parameters: {'iterations': 467, 'learning_rate': 0.08187288182804656, 'depth': 5, 'l2_leaf_reg': 9}. Best is trial 4 with value: 0.5718297531852934.\n",
      "[I 2024-04-27 15:46:03,594] Trial 29 finished with value: 0.5533117000978109 and parameters: {'iterations': 313, 'learning_rate': 0.09248270255975126, 'depth': 9, 'l2_leaf_reg': 7}. Best is trial 4 with value: 0.5718297531852934.\n",
      "[I 2024-04-27 15:46:56,321] Trial 30 finished with value: 0.5649231503395026 and parameters: {'iterations': 330, 'learning_rate': 0.07196419892546513, 'depth': 6, 'l2_leaf_reg': 8}. Best is trial 4 with value: 0.5718297531852934.\n",
      "[I 2024-04-27 15:48:14,632] Trial 31 finished with value: 0.56933882966022 and parameters: {'iterations': 472, 'learning_rate': 0.08100919879987717, 'depth': 5, 'l2_leaf_reg': 10}. Best is trial 4 with value: 0.5718297531852934.\n",
      "[I 2024-04-27 15:49:28,250] Trial 32 finished with value: 0.5624193984562254 and parameters: {'iterations': 417, 'learning_rate': 0.08364700039062536, 'depth': 7, 'l2_leaf_reg': 9}. Best is trial 4 with value: 0.5718297531852934.\n",
      "[I 2024-04-27 15:50:46,500] Trial 33 finished with value: 0.5728842563444173 and parameters: {'iterations': 477, 'learning_rate': 0.09038144015024499, 'depth': 5, 'l2_leaf_reg': 10}. Best is trial 33 with value: 0.5728842563444173.\n",
      "[I 2024-04-27 15:51:42,694] Trial 34 finished with value: 0.5692155405106105 and parameters: {'iterations': 381, 'learning_rate': 0.09022327433770015, 'depth': 4, 'l2_leaf_reg': 10}. Best is trial 33 with value: 0.5728842563444173.\n",
      "[I 2024-04-27 15:53:02,477] Trial 35 finished with value: 0.5661437824093839 and parameters: {'iterations': 495, 'learning_rate': 0.0989388636893489, 'depth': 5, 'l2_leaf_reg': 10}. Best is trial 33 with value: 0.5728842563444173.\n",
      "[I 2024-04-27 15:54:10,621] Trial 36 finished with value: 0.5650091672989664 and parameters: {'iterations': 445, 'learning_rate': 0.06042842836015355, 'depth': 4, 'l2_leaf_reg': 10}. Best is trial 33 with value: 0.5728842563444173.\n",
      "[I 2024-04-27 15:55:11,538] Trial 37 finished with value: 0.5658850429752353 and parameters: {'iterations': 400, 'learning_rate': 0.07578543220264858, 'depth': 5, 'l2_leaf_reg': 9}. Best is trial 33 with value: 0.5728842563444173.\n",
      "[I 2024-04-27 15:55:46,911] Trial 38 finished with value: 0.560964355971673 and parameters: {'iterations': 235, 'learning_rate': 0.09277965734226871, 'depth': 4, 'l2_leaf_reg': 8}. Best is trial 33 with value: 0.5728842563444173.\n",
      "[I 2024-04-27 15:56:11,571] Trial 39 finished with value: 0.5173394635777592 and parameters: {'iterations': 152, 'learning_rate': 0.022543111833722665, 'depth': 6, 'l2_leaf_reg': 6}. Best is trial 33 with value: 0.5728842563444173.\n",
      "[I 2024-04-27 15:57:15,828] Trial 40 finished with value: 0.5693167688685066 and parameters: {'iterations': 423, 'learning_rate': 0.06689405319630097, 'depth': 4, 'l2_leaf_reg': 7}. Best is trial 33 with value: 0.5728842563444173.\n",
      "[W 2024-04-27 15:57:26,830] Trial 41 failed with parameters: {'iterations': 465, 'learning_rate': 0.08407805801278552, 'depth': 5, 'l2_leaf_reg': 9} because of the following error: KeyboardInterrupt('').\n",
      "Traceback (most recent call last):\n",
      "  File \"/home/tikhon/PycharmProjects/VK-Techno-Test/.venv/lib/python3.11/site-packages/optuna/study/_optimize.py\", line 196, in _run_trial\n",
      "    value_or_values = func(trial)\n",
      "                      ^^^^^^^^^^^\n",
      "  File \"/tmp/ipykernel_5973/3022984018.py\", line 11, in objective\n",
      "    model.fit(train_pool, eval_set=test_pool, verbose=False)\n",
      "  File \"/home/tikhon/PycharmProjects/VK-Techno-Test/.venv/lib/python3.11/site-packages/catboost/core.py\", line 6227, in fit\n",
      "    self._fit(X, y, cat_features, text_features, embedding_features, pairs,\n",
      "  File \"/home/tikhon/PycharmProjects/VK-Techno-Test/.venv/lib/python3.11/site-packages/catboost/core.py\", line 2400, in _fit\n",
      "    self._train(\n",
      "  File \"/home/tikhon/PycharmProjects/VK-Techno-Test/.venv/lib/python3.11/site-packages/catboost/core.py\", line 1780, in _train\n",
      "    self._object._train(train_pool, test_pool, params, allow_clear_pool, init_model._object if init_model else None)\n",
      "  File \"_catboost.pyx\", line 4833, in _catboost._CatBoost._train\n",
      "  File \"_catboost.pyx\", line 4882, in _catboost._CatBoost._train\n",
      "KeyboardInterrupt\n",
      "[W 2024-04-27 15:57:26,833] Trial 41 failed with value None.\n"
     ]
    },
    {
     "ename": "KeyboardInterrupt",
     "evalue": "",
     "output_type": "error",
     "traceback": [
      "\u001B[0;31m---------------------------------------------------------------------------\u001B[0m",
      "\u001B[0;31mKeyboardInterrupt\u001B[0m                         Traceback (most recent call last)",
      "Cell \u001B[0;32mIn[87], line 2\u001B[0m\n\u001B[1;32m      1\u001B[0m study \u001B[38;5;241m=\u001B[39m optuna\u001B[38;5;241m.\u001B[39mcreate_study(direction\u001B[38;5;241m=\u001B[39m\u001B[38;5;124m\"\u001B[39m\u001B[38;5;124mmaximize\u001B[39m\u001B[38;5;124m\"\u001B[39m)\n\u001B[0;32m----> 2\u001B[0m \u001B[43mstudy\u001B[49m\u001B[38;5;241;43m.\u001B[39;49m\u001B[43moptimize\u001B[49m\u001B[43m(\u001B[49m\u001B[43mobjective\u001B[49m\u001B[43m,\u001B[49m\u001B[43m \u001B[49m\u001B[43mn_trials\u001B[49m\u001B[38;5;241;43m=\u001B[39;49m\u001B[38;5;241;43m50\u001B[39;49m\u001B[43m)\u001B[49m\n\u001B[1;32m      4\u001B[0m \u001B[38;5;28mprint\u001B[39m(\u001B[38;5;124m\"\u001B[39m\u001B[38;5;124mBest trial:\u001B[39m\u001B[38;5;124m\"\u001B[39m)\n\u001B[1;32m      5\u001B[0m trial \u001B[38;5;241m=\u001B[39m study\u001B[38;5;241m.\u001B[39mbest_trial\n",
      "File \u001B[0;32m~/PycharmProjects/VK-Techno-Test/.venv/lib/python3.11/site-packages/optuna/study/study.py:451\u001B[0m, in \u001B[0;36mStudy.optimize\u001B[0;34m(self, func, n_trials, timeout, n_jobs, catch, callbacks, gc_after_trial, show_progress_bar)\u001B[0m\n\u001B[1;32m    348\u001B[0m \u001B[38;5;28;01mdef\u001B[39;00m \u001B[38;5;21moptimize\u001B[39m(\n\u001B[1;32m    349\u001B[0m     \u001B[38;5;28mself\u001B[39m,\n\u001B[1;32m    350\u001B[0m     func: ObjectiveFuncType,\n\u001B[0;32m   (...)\u001B[0m\n\u001B[1;32m    357\u001B[0m     show_progress_bar: \u001B[38;5;28mbool\u001B[39m \u001B[38;5;241m=\u001B[39m \u001B[38;5;28;01mFalse\u001B[39;00m,\n\u001B[1;32m    358\u001B[0m ) \u001B[38;5;241m-\u001B[39m\u001B[38;5;241m>\u001B[39m \u001B[38;5;28;01mNone\u001B[39;00m:\n\u001B[1;32m    359\u001B[0m \u001B[38;5;250m    \u001B[39m\u001B[38;5;124;03m\"\"\"Optimize an objective function.\u001B[39;00m\n\u001B[1;32m    360\u001B[0m \n\u001B[1;32m    361\u001B[0m \u001B[38;5;124;03m    Optimization is done by choosing a suitable set of hyperparameter values from a given\u001B[39;00m\n\u001B[0;32m   (...)\u001B[0m\n\u001B[1;32m    449\u001B[0m \u001B[38;5;124;03m            If nested invocation of this method occurs.\u001B[39;00m\n\u001B[1;32m    450\u001B[0m \u001B[38;5;124;03m    \"\"\"\u001B[39;00m\n\u001B[0;32m--> 451\u001B[0m     \u001B[43m_optimize\u001B[49m\u001B[43m(\u001B[49m\n\u001B[1;32m    452\u001B[0m \u001B[43m        \u001B[49m\u001B[43mstudy\u001B[49m\u001B[38;5;241;43m=\u001B[39;49m\u001B[38;5;28;43mself\u001B[39;49m\u001B[43m,\u001B[49m\n\u001B[1;32m    453\u001B[0m \u001B[43m        \u001B[49m\u001B[43mfunc\u001B[49m\u001B[38;5;241;43m=\u001B[39;49m\u001B[43mfunc\u001B[49m\u001B[43m,\u001B[49m\n\u001B[1;32m    454\u001B[0m \u001B[43m        \u001B[49m\u001B[43mn_trials\u001B[49m\u001B[38;5;241;43m=\u001B[39;49m\u001B[43mn_trials\u001B[49m\u001B[43m,\u001B[49m\n\u001B[1;32m    455\u001B[0m \u001B[43m        \u001B[49m\u001B[43mtimeout\u001B[49m\u001B[38;5;241;43m=\u001B[39;49m\u001B[43mtimeout\u001B[49m\u001B[43m,\u001B[49m\n\u001B[1;32m    456\u001B[0m \u001B[43m        \u001B[49m\u001B[43mn_jobs\u001B[49m\u001B[38;5;241;43m=\u001B[39;49m\u001B[43mn_jobs\u001B[49m\u001B[43m,\u001B[49m\n\u001B[1;32m    457\u001B[0m \u001B[43m        \u001B[49m\u001B[43mcatch\u001B[49m\u001B[38;5;241;43m=\u001B[39;49m\u001B[38;5;28;43mtuple\u001B[39;49m\u001B[43m(\u001B[49m\u001B[43mcatch\u001B[49m\u001B[43m)\u001B[49m\u001B[43m \u001B[49m\u001B[38;5;28;43;01mif\u001B[39;49;00m\u001B[43m \u001B[49m\u001B[38;5;28;43misinstance\u001B[39;49m\u001B[43m(\u001B[49m\u001B[43mcatch\u001B[49m\u001B[43m,\u001B[49m\u001B[43m \u001B[49m\u001B[43mIterable\u001B[49m\u001B[43m)\u001B[49m\u001B[43m \u001B[49m\u001B[38;5;28;43;01melse\u001B[39;49;00m\u001B[43m \u001B[49m\u001B[43m(\u001B[49m\u001B[43mcatch\u001B[49m\u001B[43m,\u001B[49m\u001B[43m)\u001B[49m\u001B[43m,\u001B[49m\n\u001B[1;32m    458\u001B[0m \u001B[43m        \u001B[49m\u001B[43mcallbacks\u001B[49m\u001B[38;5;241;43m=\u001B[39;49m\u001B[43mcallbacks\u001B[49m\u001B[43m,\u001B[49m\n\u001B[1;32m    459\u001B[0m \u001B[43m        \u001B[49m\u001B[43mgc_after_trial\u001B[49m\u001B[38;5;241;43m=\u001B[39;49m\u001B[43mgc_after_trial\u001B[49m\u001B[43m,\u001B[49m\n\u001B[1;32m    460\u001B[0m \u001B[43m        \u001B[49m\u001B[43mshow_progress_bar\u001B[49m\u001B[38;5;241;43m=\u001B[39;49m\u001B[43mshow_progress_bar\u001B[49m\u001B[43m,\u001B[49m\n\u001B[1;32m    461\u001B[0m \u001B[43m    \u001B[49m\u001B[43m)\u001B[49m\n",
      "File \u001B[0;32m~/PycharmProjects/VK-Techno-Test/.venv/lib/python3.11/site-packages/optuna/study/_optimize.py:62\u001B[0m, in \u001B[0;36m_optimize\u001B[0;34m(study, func, n_trials, timeout, n_jobs, catch, callbacks, gc_after_trial, show_progress_bar)\u001B[0m\n\u001B[1;32m     60\u001B[0m \u001B[38;5;28;01mtry\u001B[39;00m:\n\u001B[1;32m     61\u001B[0m     \u001B[38;5;28;01mif\u001B[39;00m n_jobs \u001B[38;5;241m==\u001B[39m \u001B[38;5;241m1\u001B[39m:\n\u001B[0;32m---> 62\u001B[0m         \u001B[43m_optimize_sequential\u001B[49m\u001B[43m(\u001B[49m\n\u001B[1;32m     63\u001B[0m \u001B[43m            \u001B[49m\u001B[43mstudy\u001B[49m\u001B[43m,\u001B[49m\n\u001B[1;32m     64\u001B[0m \u001B[43m            \u001B[49m\u001B[43mfunc\u001B[49m\u001B[43m,\u001B[49m\n\u001B[1;32m     65\u001B[0m \u001B[43m            \u001B[49m\u001B[43mn_trials\u001B[49m\u001B[43m,\u001B[49m\n\u001B[1;32m     66\u001B[0m \u001B[43m            \u001B[49m\u001B[43mtimeout\u001B[49m\u001B[43m,\u001B[49m\n\u001B[1;32m     67\u001B[0m \u001B[43m            \u001B[49m\u001B[43mcatch\u001B[49m\u001B[43m,\u001B[49m\n\u001B[1;32m     68\u001B[0m \u001B[43m            \u001B[49m\u001B[43mcallbacks\u001B[49m\u001B[43m,\u001B[49m\n\u001B[1;32m     69\u001B[0m \u001B[43m            \u001B[49m\u001B[43mgc_after_trial\u001B[49m\u001B[43m,\u001B[49m\n\u001B[1;32m     70\u001B[0m \u001B[43m            \u001B[49m\u001B[43mreseed_sampler_rng\u001B[49m\u001B[38;5;241;43m=\u001B[39;49m\u001B[38;5;28;43;01mFalse\u001B[39;49;00m\u001B[43m,\u001B[49m\n\u001B[1;32m     71\u001B[0m \u001B[43m            \u001B[49m\u001B[43mtime_start\u001B[49m\u001B[38;5;241;43m=\u001B[39;49m\u001B[38;5;28;43;01mNone\u001B[39;49;00m\u001B[43m,\u001B[49m\n\u001B[1;32m     72\u001B[0m \u001B[43m            \u001B[49m\u001B[43mprogress_bar\u001B[49m\u001B[38;5;241;43m=\u001B[39;49m\u001B[43mprogress_bar\u001B[49m\u001B[43m,\u001B[49m\n\u001B[1;32m     73\u001B[0m \u001B[43m        \u001B[49m\u001B[43m)\u001B[49m\n\u001B[1;32m     74\u001B[0m     \u001B[38;5;28;01melse\u001B[39;00m:\n\u001B[1;32m     75\u001B[0m         \u001B[38;5;28;01mif\u001B[39;00m n_jobs \u001B[38;5;241m==\u001B[39m \u001B[38;5;241m-\u001B[39m\u001B[38;5;241m1\u001B[39m:\n",
      "File \u001B[0;32m~/PycharmProjects/VK-Techno-Test/.venv/lib/python3.11/site-packages/optuna/study/_optimize.py:159\u001B[0m, in \u001B[0;36m_optimize_sequential\u001B[0;34m(study, func, n_trials, timeout, catch, callbacks, gc_after_trial, reseed_sampler_rng, time_start, progress_bar)\u001B[0m\n\u001B[1;32m    156\u001B[0m         \u001B[38;5;28;01mbreak\u001B[39;00m\n\u001B[1;32m    158\u001B[0m \u001B[38;5;28;01mtry\u001B[39;00m:\n\u001B[0;32m--> 159\u001B[0m     frozen_trial \u001B[38;5;241m=\u001B[39m \u001B[43m_run_trial\u001B[49m\u001B[43m(\u001B[49m\u001B[43mstudy\u001B[49m\u001B[43m,\u001B[49m\u001B[43m \u001B[49m\u001B[43mfunc\u001B[49m\u001B[43m,\u001B[49m\u001B[43m \u001B[49m\u001B[43mcatch\u001B[49m\u001B[43m)\u001B[49m\n\u001B[1;32m    160\u001B[0m \u001B[38;5;28;01mfinally\u001B[39;00m:\n\u001B[1;32m    161\u001B[0m     \u001B[38;5;66;03m# The following line mitigates memory problems that can be occurred in some\u001B[39;00m\n\u001B[1;32m    162\u001B[0m     \u001B[38;5;66;03m# environments (e.g., services that use computing containers such as GitHub Actions).\u001B[39;00m\n\u001B[1;32m    163\u001B[0m     \u001B[38;5;66;03m# Please refer to the following PR for further details:\u001B[39;00m\n\u001B[1;32m    164\u001B[0m     \u001B[38;5;66;03m# https://github.com/optuna/optuna/pull/325.\u001B[39;00m\n\u001B[1;32m    165\u001B[0m     \u001B[38;5;28;01mif\u001B[39;00m gc_after_trial:\n",
      "File \u001B[0;32m~/PycharmProjects/VK-Techno-Test/.venv/lib/python3.11/site-packages/optuna/study/_optimize.py:247\u001B[0m, in \u001B[0;36m_run_trial\u001B[0;34m(study, func, catch)\u001B[0m\n\u001B[1;32m    240\u001B[0m         \u001B[38;5;28;01massert\u001B[39;00m \u001B[38;5;28;01mFalse\u001B[39;00m, \u001B[38;5;124m\"\u001B[39m\u001B[38;5;124mShould not reach.\u001B[39m\u001B[38;5;124m\"\u001B[39m\n\u001B[1;32m    242\u001B[0m \u001B[38;5;28;01mif\u001B[39;00m (\n\u001B[1;32m    243\u001B[0m     frozen_trial\u001B[38;5;241m.\u001B[39mstate \u001B[38;5;241m==\u001B[39m TrialState\u001B[38;5;241m.\u001B[39mFAIL\n\u001B[1;32m    244\u001B[0m     \u001B[38;5;129;01mand\u001B[39;00m func_err \u001B[38;5;129;01mis\u001B[39;00m \u001B[38;5;129;01mnot\u001B[39;00m \u001B[38;5;28;01mNone\u001B[39;00m\n\u001B[1;32m    245\u001B[0m     \u001B[38;5;129;01mand\u001B[39;00m \u001B[38;5;129;01mnot\u001B[39;00m \u001B[38;5;28misinstance\u001B[39m(func_err, catch)\n\u001B[1;32m    246\u001B[0m ):\n\u001B[0;32m--> 247\u001B[0m     \u001B[38;5;28;01mraise\u001B[39;00m func_err\n\u001B[1;32m    248\u001B[0m \u001B[38;5;28;01mreturn\u001B[39;00m frozen_trial\n",
      "File \u001B[0;32m~/PycharmProjects/VK-Techno-Test/.venv/lib/python3.11/site-packages/optuna/study/_optimize.py:196\u001B[0m, in \u001B[0;36m_run_trial\u001B[0;34m(study, func, catch)\u001B[0m\n\u001B[1;32m    194\u001B[0m \u001B[38;5;28;01mwith\u001B[39;00m get_heartbeat_thread(trial\u001B[38;5;241m.\u001B[39m_trial_id, study\u001B[38;5;241m.\u001B[39m_storage):\n\u001B[1;32m    195\u001B[0m     \u001B[38;5;28;01mtry\u001B[39;00m:\n\u001B[0;32m--> 196\u001B[0m         value_or_values \u001B[38;5;241m=\u001B[39m \u001B[43mfunc\u001B[49m\u001B[43m(\u001B[49m\u001B[43mtrial\u001B[49m\u001B[43m)\u001B[49m\n\u001B[1;32m    197\u001B[0m     \u001B[38;5;28;01mexcept\u001B[39;00m exceptions\u001B[38;5;241m.\u001B[39mTrialPruned \u001B[38;5;28;01mas\u001B[39;00m e:\n\u001B[1;32m    198\u001B[0m         \u001B[38;5;66;03m# TODO(mamu): Handle multi-objective cases.\u001B[39;00m\n\u001B[1;32m    199\u001B[0m         state \u001B[38;5;241m=\u001B[39m TrialState\u001B[38;5;241m.\u001B[39mPRUNED\n",
      "Cell \u001B[0;32mIn[85], line 11\u001B[0m, in \u001B[0;36mobjective\u001B[0;34m(trial)\u001B[0m\n\u001B[1;32m      2\u001B[0m param \u001B[38;5;241m=\u001B[39m {\n\u001B[1;32m      3\u001B[0m     \u001B[38;5;124m\"\u001B[39m\u001B[38;5;124miterations\u001B[39m\u001B[38;5;124m\"\u001B[39m: trial\u001B[38;5;241m.\u001B[39msuggest_int(\u001B[38;5;124m\"\u001B[39m\u001B[38;5;124miterations\u001B[39m\u001B[38;5;124m\"\u001B[39m, \u001B[38;5;241m100\u001B[39m, \u001B[38;5;241m500\u001B[39m),\n\u001B[1;32m      4\u001B[0m     \u001B[38;5;124m\"\u001B[39m\u001B[38;5;124mlearning_rate\u001B[39m\u001B[38;5;124m\"\u001B[39m: trial\u001B[38;5;241m.\u001B[39msuggest_float(\u001B[38;5;124m\"\u001B[39m\u001B[38;5;124mlearning_rate\u001B[39m\u001B[38;5;124m\"\u001B[39m, \u001B[38;5;241m0.01\u001B[39m, \u001B[38;5;241m0.1\u001B[39m),\n\u001B[1;32m      5\u001B[0m     \u001B[38;5;124m\"\u001B[39m\u001B[38;5;124mdepth\u001B[39m\u001B[38;5;124m\"\u001B[39m: trial\u001B[38;5;241m.\u001B[39msuggest_int(\u001B[38;5;124m\"\u001B[39m\u001B[38;5;124mdepth\u001B[39m\u001B[38;5;124m\"\u001B[39m, \u001B[38;5;241m4\u001B[39m, \u001B[38;5;241m10\u001B[39m),\n\u001B[1;32m      6\u001B[0m     \u001B[38;5;124m\"\u001B[39m\u001B[38;5;124ml2_leaf_reg\u001B[39m\u001B[38;5;124m\"\u001B[39m: trial\u001B[38;5;241m.\u001B[39msuggest_int(\u001B[38;5;124m\"\u001B[39m\u001B[38;5;124ml2_leaf_reg\u001B[39m\u001B[38;5;124m\"\u001B[39m, \u001B[38;5;241m3\u001B[39m, \u001B[38;5;241m10\u001B[39m)\n\u001B[1;32m      7\u001B[0m }\n\u001B[1;32m      9\u001B[0m model \u001B[38;5;241m=\u001B[39m CatBoostRanker(loss_function\u001B[38;5;241m=\u001B[39m\u001B[38;5;124m\"\u001B[39m\u001B[38;5;124mYetiRank\u001B[39m\u001B[38;5;124m\"\u001B[39m, \u001B[38;5;241m*\u001B[39m\u001B[38;5;241m*\u001B[39mparam)\n\u001B[0;32m---> 11\u001B[0m \u001B[43mmodel\u001B[49m\u001B[38;5;241;43m.\u001B[39;49m\u001B[43mfit\u001B[49m\u001B[43m(\u001B[49m\u001B[43mtrain_pool\u001B[49m\u001B[43m,\u001B[49m\u001B[43m \u001B[49m\u001B[43meval_set\u001B[49m\u001B[38;5;241;43m=\u001B[39;49m\u001B[43mtest_pool\u001B[49m\u001B[43m,\u001B[49m\u001B[43m \u001B[49m\u001B[43mverbose\u001B[49m\u001B[38;5;241;43m=\u001B[39;49m\u001B[38;5;28;43;01mFalse\u001B[39;49;00m\u001B[43m)\u001B[49m\n\u001B[1;32m     13\u001B[0m predictions \u001B[38;5;241m=\u001B[39m model\u001B[38;5;241m.\u001B[39mpredict(test_pool)\n\u001B[1;32m     14\u001B[0m mean_ndcg \u001B[38;5;241m=\u001B[39m calculate_ndcg_per_query(test_data, predictions, k\u001B[38;5;241m=\u001B[39m\u001B[38;5;241m5\u001B[39m)\n",
      "File \u001B[0;32m~/PycharmProjects/VK-Techno-Test/.venv/lib/python3.11/site-packages/catboost/core.py:6227\u001B[0m, in \u001B[0;36mCatBoostRanker.fit\u001B[0;34m(self, X, y, group_id, cat_features, text_features, embedding_features, pairs, sample_weight, group_weight, subgroup_id, pairs_weight, baseline, use_best_model, eval_set, verbose, logging_level, plot, plot_file, column_description, verbose_eval, metric_period, silent, early_stopping_rounds, save_snapshot, snapshot_file, snapshot_interval, init_model, callbacks, log_cout, log_cerr)\u001B[0m\n\u001B[1;32m   6224\u001B[0m \u001B[38;5;28;01mif\u001B[39;00m \u001B[38;5;124m'\u001B[39m\u001B[38;5;124mloss_function\u001B[39m\u001B[38;5;124m'\u001B[39m \u001B[38;5;129;01min\u001B[39;00m params:\n\u001B[1;32m   6225\u001B[0m     CatBoostRanker\u001B[38;5;241m.\u001B[39m_check_is_compatible_loss(params[\u001B[38;5;124m'\u001B[39m\u001B[38;5;124mloss_function\u001B[39m\u001B[38;5;124m'\u001B[39m])\n\u001B[0;32m-> 6227\u001B[0m \u001B[38;5;28;43mself\u001B[39;49m\u001B[38;5;241;43m.\u001B[39;49m\u001B[43m_fit\u001B[49m\u001B[43m(\u001B[49m\u001B[43mX\u001B[49m\u001B[43m,\u001B[49m\u001B[43m \u001B[49m\u001B[43my\u001B[49m\u001B[43m,\u001B[49m\u001B[43m \u001B[49m\u001B[43mcat_features\u001B[49m\u001B[43m,\u001B[49m\u001B[43m \u001B[49m\u001B[43mtext_features\u001B[49m\u001B[43m,\u001B[49m\u001B[43m \u001B[49m\u001B[43membedding_features\u001B[49m\u001B[43m,\u001B[49m\u001B[43m \u001B[49m\u001B[43mpairs\u001B[49m\u001B[43m,\u001B[49m\n\u001B[1;32m   6228\u001B[0m \u001B[43m          \u001B[49m\u001B[43msample_weight\u001B[49m\u001B[43m,\u001B[49m\u001B[43m \u001B[49m\u001B[43mgroup_id\u001B[49m\u001B[43m,\u001B[49m\u001B[43m \u001B[49m\u001B[43mgroup_weight\u001B[49m\u001B[43m,\u001B[49m\u001B[43m \u001B[49m\u001B[43msubgroup_id\u001B[49m\u001B[43m,\u001B[49m\u001B[43m \u001B[49m\u001B[43mpairs_weight\u001B[49m\u001B[43m,\u001B[49m\u001B[43m \u001B[49m\u001B[43mbaseline\u001B[49m\u001B[43m,\u001B[49m\u001B[43m \u001B[49m\u001B[43muse_best_model\u001B[49m\u001B[43m,\u001B[49m\n\u001B[1;32m   6229\u001B[0m \u001B[43m          \u001B[49m\u001B[43meval_set\u001B[49m\u001B[43m,\u001B[49m\u001B[43m \u001B[49m\u001B[43mverbose\u001B[49m\u001B[43m,\u001B[49m\u001B[43m \u001B[49m\u001B[43mlogging_level\u001B[49m\u001B[43m,\u001B[49m\u001B[43m \u001B[49m\u001B[43mplot\u001B[49m\u001B[43m,\u001B[49m\u001B[43m \u001B[49m\u001B[43mplot_file\u001B[49m\u001B[43m,\u001B[49m\u001B[43m \u001B[49m\u001B[43mcolumn_description\u001B[49m\u001B[43m,\u001B[49m\u001B[43m \u001B[49m\u001B[43mverbose_eval\u001B[49m\u001B[43m,\u001B[49m\u001B[43m \u001B[49m\u001B[43mmetric_period\u001B[49m\u001B[43m,\u001B[49m\n\u001B[1;32m   6230\u001B[0m \u001B[43m          \u001B[49m\u001B[43msilent\u001B[49m\u001B[43m,\u001B[49m\u001B[43m \u001B[49m\u001B[43mearly_stopping_rounds\u001B[49m\u001B[43m,\u001B[49m\u001B[43m \u001B[49m\u001B[43msave_snapshot\u001B[49m\u001B[43m,\u001B[49m\u001B[43m \u001B[49m\u001B[43msnapshot_file\u001B[49m\u001B[43m,\u001B[49m\u001B[43m \u001B[49m\u001B[43msnapshot_interval\u001B[49m\u001B[43m,\u001B[49m\u001B[43m \u001B[49m\u001B[43minit_model\u001B[49m\u001B[43m,\u001B[49m\u001B[43m \u001B[49m\u001B[43mcallbacks\u001B[49m\u001B[43m,\u001B[49m\u001B[43m \u001B[49m\u001B[43mlog_cout\u001B[49m\u001B[43m,\u001B[49m\u001B[43m \u001B[49m\u001B[43mlog_cerr\u001B[49m\u001B[43m)\u001B[49m\n\u001B[1;32m   6231\u001B[0m \u001B[38;5;28;01mreturn\u001B[39;00m \u001B[38;5;28mself\u001B[39m\n",
      "File \u001B[0;32m~/PycharmProjects/VK-Techno-Test/.venv/lib/python3.11/site-packages/catboost/core.py:2400\u001B[0m, in \u001B[0;36mCatBoost._fit\u001B[0;34m(self, X, y, cat_features, text_features, embedding_features, pairs, sample_weight, group_id, group_weight, subgroup_id, pairs_weight, baseline, use_best_model, eval_set, verbose, logging_level, plot, plot_file, column_description, verbose_eval, metric_period, silent, early_stopping_rounds, save_snapshot, snapshot_file, snapshot_interval, init_model, callbacks, log_cout, log_cerr)\u001B[0m\n\u001B[1;32m   2397\u001B[0m allow_clear_pool \u001B[38;5;241m=\u001B[39m train_params[\u001B[38;5;124m\"\u001B[39m\u001B[38;5;124mallow_clear_pool\u001B[39m\u001B[38;5;124m\"\u001B[39m]\n\u001B[1;32m   2399\u001B[0m \u001B[38;5;28;01mwith\u001B[39;00m plot_wrapper(plot, plot_file, \u001B[38;5;124m'\u001B[39m\u001B[38;5;124mTraining plots\u001B[39m\u001B[38;5;124m'\u001B[39m, [_get_train_dir(\u001B[38;5;28mself\u001B[39m\u001B[38;5;241m.\u001B[39mget_params())]):\n\u001B[0;32m-> 2400\u001B[0m     \u001B[38;5;28;43mself\u001B[39;49m\u001B[38;5;241;43m.\u001B[39;49m\u001B[43m_train\u001B[49m\u001B[43m(\u001B[49m\n\u001B[1;32m   2401\u001B[0m \u001B[43m        \u001B[49m\u001B[43mtrain_pool\u001B[49m\u001B[43m,\u001B[49m\n\u001B[1;32m   2402\u001B[0m \u001B[43m        \u001B[49m\u001B[43mtrain_params\u001B[49m\u001B[43m[\u001B[49m\u001B[38;5;124;43m\"\u001B[39;49m\u001B[38;5;124;43meval_sets\u001B[39;49m\u001B[38;5;124;43m\"\u001B[39;49m\u001B[43m]\u001B[49m\u001B[43m,\u001B[49m\n\u001B[1;32m   2403\u001B[0m \u001B[43m        \u001B[49m\u001B[43mparams\u001B[49m\u001B[43m,\u001B[49m\n\u001B[1;32m   2404\u001B[0m \u001B[43m        \u001B[49m\u001B[43mallow_clear_pool\u001B[49m\u001B[43m,\u001B[49m\n\u001B[1;32m   2405\u001B[0m \u001B[43m        \u001B[49m\u001B[43mtrain_params\u001B[49m\u001B[43m[\u001B[49m\u001B[38;5;124;43m\"\u001B[39;49m\u001B[38;5;124;43minit_model\u001B[39;49m\u001B[38;5;124;43m\"\u001B[39;49m\u001B[43m]\u001B[49m\n\u001B[1;32m   2406\u001B[0m \u001B[43m    \u001B[49m\u001B[43m)\u001B[49m\n\u001B[1;32m   2408\u001B[0m \u001B[38;5;66;03m# Have property feature_importance possibly set\u001B[39;00m\n\u001B[1;32m   2409\u001B[0m loss \u001B[38;5;241m=\u001B[39m \u001B[38;5;28mself\u001B[39m\u001B[38;5;241m.\u001B[39m_object\u001B[38;5;241m.\u001B[39m_get_loss_function_name()\n",
      "File \u001B[0;32m~/PycharmProjects/VK-Techno-Test/.venv/lib/python3.11/site-packages/catboost/core.py:1780\u001B[0m, in \u001B[0;36m_CatBoostBase._train\u001B[0;34m(self, train_pool, test_pool, params, allow_clear_pool, init_model)\u001B[0m\n\u001B[1;32m   1779\u001B[0m \u001B[38;5;28;01mdef\u001B[39;00m \u001B[38;5;21m_train\u001B[39m(\u001B[38;5;28mself\u001B[39m, train_pool, test_pool, params, allow_clear_pool, init_model):\n\u001B[0;32m-> 1780\u001B[0m     \u001B[38;5;28;43mself\u001B[39;49m\u001B[38;5;241;43m.\u001B[39;49m\u001B[43m_object\u001B[49m\u001B[38;5;241;43m.\u001B[39;49m\u001B[43m_train\u001B[49m\u001B[43m(\u001B[49m\u001B[43mtrain_pool\u001B[49m\u001B[43m,\u001B[49m\u001B[43m \u001B[49m\u001B[43mtest_pool\u001B[49m\u001B[43m,\u001B[49m\u001B[43m \u001B[49m\u001B[43mparams\u001B[49m\u001B[43m,\u001B[49m\u001B[43m \u001B[49m\u001B[43mallow_clear_pool\u001B[49m\u001B[43m,\u001B[49m\u001B[43m \u001B[49m\u001B[43minit_model\u001B[49m\u001B[38;5;241;43m.\u001B[39;49m\u001B[43m_object\u001B[49m\u001B[43m \u001B[49m\u001B[38;5;28;43;01mif\u001B[39;49;00m\u001B[43m \u001B[49m\u001B[43minit_model\u001B[49m\u001B[43m \u001B[49m\u001B[38;5;28;43;01melse\u001B[39;49;00m\u001B[43m \u001B[49m\u001B[38;5;28;43;01mNone\u001B[39;49;00m\u001B[43m)\u001B[49m\n\u001B[1;32m   1781\u001B[0m     \u001B[38;5;28mself\u001B[39m\u001B[38;5;241m.\u001B[39m_set_trained_model_attributes()\n",
      "File \u001B[0;32m_catboost.pyx:4833\u001B[0m, in \u001B[0;36m_catboost._CatBoost._train\u001B[0;34m()\u001B[0m\n",
      "File \u001B[0;32m_catboost.pyx:4882\u001B[0m, in \u001B[0;36m_catboost._CatBoost._train\u001B[0;34m()\u001B[0m\n",
      "\u001B[0;31mKeyboardInterrupt\u001B[0m: "
     ]
    }
   ],
   "source": [
    "study = optuna.create_study(direction=\"maximize\")\n",
    "study.optimize(objective, n_trials=50)\n",
    "\n",
    "print(\"Best trial:\")\n",
    "trial = study.best_trial\n",
    "\n",
    "print(f\"NDCG@5: {trial.value}\")\n",
    "print(\"Best hyperparameters:\")\n",
    "print(trial.params)"
   ],
   "metadata": {
    "collapsed": false,
    "ExecuteTime": {
     "end_time": "2024-04-27T12:57:27.262983055Z",
     "start_time": "2024-04-27T12:13:40.718613951Z"
    }
   },
   "id": "4f7b55987ab8903c",
   "execution_count": 87
  },
  {
   "cell_type": "code",
   "outputs": [],
   "source": [],
   "metadata": {
    "collapsed": false,
    "ExecuteTime": {
     "end_time": "2024-04-27T12:05:21.565868250Z",
     "start_time": "2024-04-27T12:05:21.560174935Z"
    }
   },
   "id": "78be318e1c1a53f4",
   "execution_count": 70
  },
  {
   "cell_type": "code",
   "outputs": [
    {
     "name": "stdout",
     "output_type": "stream",
     "text": [
      "Средний NDCG@5: 0.5681112085492219\n"
     ]
    }
   ],
   "source": [
    "# predictions = model.predict(test_pool)\n",
    "# mean_ndcg = calculate_ndcg_per_query(test_data, predictions, k=5)\n",
    "# print(\"Средний NDCG@5:\", mean_ndcg)"
   ],
   "metadata": {
    "collapsed": false,
    "ExecuteTime": {
     "end_time": "2024-04-27T12:05:45.272881149Z",
     "start_time": "2024-04-27T12:05:45.120360372Z"
    }
   },
   "id": "a7982317cdce7bf",
   "execution_count": 77
  },
  {
   "cell_type": "code",
   "outputs": [
    {
     "data": {
      "text/plain": "1.0"
     },
     "execution_count": 27,
     "metadata": {},
     "output_type": "execute_result"
    }
   ],
   "source": [
    "ndcg_score([[1, 2], [2, 4]], [[1, 3], [1, 2]], k=1)"
   ],
   "metadata": {
    "collapsed": false,
    "ExecuteTime": {
     "end_time": "2024-04-27T11:44:12.907958841Z",
     "start_time": "2024-04-27T11:44:12.893575192Z"
    }
   },
   "id": "4d34f0cf764acdf2",
   "execution_count": 27
  },
  {
   "cell_type": "code",
   "outputs": [
    {
     "data": {
      "text/plain": "array([-0.17428641,  0.24795866, -0.07610835, ...,  0.18993445,\n        0.30776963,  0.21973099])"
     },
     "execution_count": 94,
     "metadata": {},
     "output_type": "execute_result"
    }
   ],
   "source": [],
   "metadata": {
    "collapsed": false,
    "ExecuteTime": {
     "end_time": "2024-04-23T18:58:52.157869878Z",
     "start_time": "2024-04-23T18:58:52.126563159Z"
    }
   },
   "id": "591a1859d1f35fd2",
   "execution_count": 94
  },
  {
   "cell_type": "code",
   "outputs": [],
   "source": [],
   "metadata": {
    "collapsed": false
   },
   "id": "b6832333c2483811"
  }
 ],
 "metadata": {
  "kernelspec": {
   "display_name": "Python 3",
   "language": "python",
   "name": "python3"
  },
  "language_info": {
   "codemirror_mode": {
    "name": "ipython",
    "version": 2
   },
   "file_extension": ".py",
   "mimetype": "text/x-python",
   "name": "python",
   "nbconvert_exporter": "python",
   "pygments_lexer": "ipython2",
   "version": "2.7.6"
  }
 },
 "nbformat": 4,
 "nbformat_minor": 5
}
