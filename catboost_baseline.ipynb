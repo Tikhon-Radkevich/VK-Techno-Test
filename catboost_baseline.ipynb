{
 "cells": [
  {
   "cell_type": "code",
   "outputs": [],
   "source": [
    "import pandas as pd\n",
    "import numpy as np"
   ],
   "metadata": {
    "collapsed": false,
    "ExecuteTime": {
     "end_time": "2024-04-23T18:19:22.689261685Z",
     "start_time": "2024-04-23T18:19:22.279679525Z"
    }
   },
   "id": "7ba013e40bef8a30",
   "execution_count": 3
  },
  {
   "cell_type": "code",
   "outputs": [],
   "source": [
    "data_path = \"data/intern_task.csv\""
   ],
   "metadata": {
    "collapsed": false,
    "ExecuteTime": {
     "end_time": "2024-04-23T18:19:26.522275865Z",
     "start_time": "2024-04-23T18:19:22.988140987Z"
    }
   },
   "id": "90543f690192d9d2",
   "execution_count": 4
  },
  {
   "cell_type": "code",
   "outputs": [],
   "source": [
    "df = pd.read_csv(data_path)"
   ],
   "metadata": {
    "collapsed": false
   },
   "id": "a7ddad1456689336"
  },
  {
   "cell_type": "markdown",
   "source": [
    "## Test/Train Split"
   ],
   "metadata": {
    "collapsed": false
   },
   "id": "4c865e8d599795b7"
  },
  {
   "cell_type": "code",
   "outputs": [],
   "source": [
    "unique_query_ids = df[\"query_id\"].unique()\n",
    "\n",
    "test_query_ids = np.random.choice(unique_query_ids, size=200, replace=False)"
   ],
   "metadata": {
    "collapsed": false,
    "ExecuteTime": {
     "end_time": "2024-04-23T18:22:10.358273430Z",
     "start_time": "2024-04-23T18:22:10.313627775Z"
    }
   },
   "id": "667961de6abd1aac",
   "execution_count": 6
  },
  {
   "cell_type": "code",
   "outputs": [
    {
     "data": {
      "text/plain": "((212575, 144), (22683, 144), (212575,), (22683,))"
     },
     "execution_count": 7,
     "metadata": {},
     "output_type": "execute_result"
    }
   ],
   "source": [
    "train_data = df[~df[\"query_id\"].isin(test_query_ids)]\n",
    "test_data = df[df[\"query_id\"].isin(test_query_ids)]\n",
    "\n",
    "X_train = train_data.drop([\"rank\", \"query_id\"], axis=1)\n",
    "y_train = train_data[\"rank\"]\n",
    "X_test = test_data.drop([\"rank\", \"query_id\"], axis=1)\n",
    "y_test = test_data[\"rank\"]\n",
    "\n",
    "X_train.shape, X_test.shape, y_train.shape, y_test.shape"
   ],
   "metadata": {
    "collapsed": true,
    "ExecuteTime": {
     "end_time": "2024-04-23T18:22:21.732338968Z",
     "start_time": "2024-04-23T18:22:21.569768070Z"
    }
   },
   "id": "initial_id",
   "execution_count": 7
  },
  {
   "cell_type": "markdown",
   "source": [
    "## Catboost Baseline Model"
   ],
   "metadata": {
    "collapsed": false
   },
   "id": "8984a726f0b1b78d"
  },
  {
   "cell_type": "code",
   "outputs": [],
   "source": [
    "from catboost import CatBoostRanker, Pool\n",
    "from sklearn.metrics import ndcg_score"
   ],
   "metadata": {
    "collapsed": false,
    "ExecuteTime": {
     "end_time": "2024-04-23T18:25:59.435601993Z",
     "start_time": "2024-04-23T18:25:59.358494249Z"
    }
   },
   "id": "354ceb32b3cf1c16",
   "execution_count": 8
  },
  {
   "cell_type": "code",
   "outputs": [],
   "source": [
    "train_pool = Pool(data=X_train, label=y_train, group_id=train_data[\"query_id\"])\n",
    "test_pool = Pool(data=X_test, label=y_test, group_id=test_data[\"query_id\"])"
   ],
   "metadata": {
    "collapsed": false,
    "ExecuteTime": {
     "end_time": "2024-04-23T18:25:59.969280513Z",
     "start_time": "2024-04-23T18:25:59.880549281Z"
    }
   },
   "id": "ace81c0583859a88",
   "execution_count": 9
  },
  {
   "cell_type": "code",
   "outputs": [],
   "source": [
    "model = CatBoostRanker(\n",
    "    iterations=60,\n",
    "    learning_rate=0.05,\n",
    "    depth=6,\n",
    "    loss_function=\"PairLogit\",\n",
    "    verbose=True,\n",
    "    # logging_level=\"Info\"\n",
    ")"
   ],
   "metadata": {
    "collapsed": false,
    "ExecuteTime": {
     "end_time": "2024-04-23T18:41:22.359538442Z",
     "start_time": "2024-04-23T18:41:22.344897892Z"
    }
   },
   "id": "4f7b55987ab8903c",
   "execution_count": 51
  },
  {
   "cell_type": "code",
   "outputs": [
    {
     "name": "stdout",
     "output_type": "stream",
     "text": [
      "0:\tlearn: 0.6904238\ttotal: 2.65s\tremaining: 2m 36s\n",
      "1:\tlearn: 0.6880357\ttotal: 5.33s\tremaining: 2m 34s\n",
      "2:\tlearn: 0.6859553\ttotal: 8.36s\tremaining: 2m 38s\n",
      "3:\tlearn: 0.6844294\ttotal: 11.4s\tremaining: 2m 39s\n",
      "4:\tlearn: 0.6827472\ttotal: 14.1s\tremaining: 2m 34s\n",
      "5:\tlearn: 0.6812178\ttotal: 16.8s\tremaining: 2m 31s\n",
      "6:\tlearn: 0.6796345\ttotal: 19.5s\tremaining: 2m 27s\n",
      "7:\tlearn: 0.6783635\ttotal: 22.2s\tremaining: 2m 24s\n",
      "8:\tlearn: 0.6771458\ttotal: 24.9s\tremaining: 2m 20s\n",
      "9:\tlearn: 0.6758946\ttotal: 27.5s\tremaining: 2m 17s\n",
      "10:\tlearn: 0.6744508\ttotal: 30.2s\tremaining: 2m 14s\n",
      "11:\tlearn: 0.6733605\ttotal: 32.8s\tremaining: 2m 11s\n",
      "12:\tlearn: 0.6723667\ttotal: 35.6s\tremaining: 2m 8s\n",
      "13:\tlearn: 0.6714292\ttotal: 38.4s\tremaining: 2m 6s\n",
      "14:\tlearn: 0.6704463\ttotal: 41.3s\tremaining: 2m 3s\n",
      "15:\tlearn: 0.6695116\ttotal: 44s\tremaining: 2m 1s\n",
      "16:\tlearn: 0.6679931\ttotal: 46.9s\tremaining: 1m 58s\n",
      "17:\tlearn: 0.6668734\ttotal: 50.3s\tremaining: 1m 57s\n",
      "18:\tlearn: 0.6658955\ttotal: 53.1s\tremaining: 1m 54s\n",
      "19:\tlearn: 0.6653336\ttotal: 56s\tremaining: 1m 51s\n",
      "20:\tlearn: 0.6641759\ttotal: 58.8s\tremaining: 1m 49s\n",
      "21:\tlearn: 0.6636881\ttotal: 1m 1s\tremaining: 1m 46s\n",
      "22:\tlearn: 0.6630266\ttotal: 1m 4s\tremaining: 1m 43s\n",
      "23:\tlearn: 0.6622388\ttotal: 1m 7s\tremaining: 1m 41s\n",
      "24:\tlearn: 0.6617417\ttotal: 1m 10s\tremaining: 1m 38s\n",
      "25:\tlearn: 0.6614260\ttotal: 1m 13s\tremaining: 1m 35s\n",
      "26:\tlearn: 0.6609697\ttotal: 1m 16s\tremaining: 1m 33s\n",
      "27:\tlearn: 0.6603817\ttotal: 1m 19s\tremaining: 1m 30s\n",
      "28:\tlearn: 0.6599379\ttotal: 1m 21s\tremaining: 1m 27s\n",
      "29:\tlearn: 0.6595498\ttotal: 1m 24s\tremaining: 1m 24s\n",
      "30:\tlearn: 0.6591827\ttotal: 1m 27s\tremaining: 1m 21s\n",
      "31:\tlearn: 0.6586991\ttotal: 1m 30s\tremaining: 1m 18s\n",
      "32:\tlearn: 0.6583871\ttotal: 1m 32s\tremaining: 1m 15s\n",
      "33:\tlearn: 0.6578941\ttotal: 1m 35s\tremaining: 1m 12s\n",
      "34:\tlearn: 0.6574499\ttotal: 1m 38s\tremaining: 1m 10s\n",
      "35:\tlearn: 0.6569739\ttotal: 1m 40s\tremaining: 1m 7s\n",
      "36:\tlearn: 0.6567284\ttotal: 1m 43s\tremaining: 1m 4s\n",
      "37:\tlearn: 0.6564329\ttotal: 1m 46s\tremaining: 1m 1s\n",
      "38:\tlearn: 0.6558981\ttotal: 1m 48s\tremaining: 58.5s\n",
      "39:\tlearn: 0.6554817\ttotal: 1m 51s\tremaining: 55.7s\n",
      "40:\tlearn: 0.6550479\ttotal: 1m 54s\tremaining: 52.9s\n",
      "41:\tlearn: 0.6545724\ttotal: 1m 56s\tremaining: 50s\n",
      "42:\tlearn: 0.6543299\ttotal: 1m 59s\tremaining: 47.2s\n",
      "43:\tlearn: 0.6541715\ttotal: 2m 2s\tremaining: 44.5s\n",
      "44:\tlearn: 0.6537437\ttotal: 2m 5s\tremaining: 41.7s\n",
      "45:\tlearn: 0.6533545\ttotal: 2m 8s\tremaining: 39s\n",
      "46:\tlearn: 0.6528808\ttotal: 2m 11s\tremaining: 36.3s\n",
      "47:\tlearn: 0.6525366\ttotal: 2m 14s\tremaining: 33.5s\n",
      "48:\tlearn: 0.6521275\ttotal: 2m 17s\tremaining: 30.8s\n",
      "49:\tlearn: 0.6519352\ttotal: 2m 20s\tremaining: 28.2s\n",
      "50:\tlearn: 0.6517780\ttotal: 2m 24s\tremaining: 25.4s\n",
      "51:\tlearn: 0.6515644\ttotal: 2m 27s\tremaining: 22.6s\n",
      "52:\tlearn: 0.6513028\ttotal: 2m 30s\tremaining: 19.8s\n",
      "53:\tlearn: 0.6510273\ttotal: 2m 32s\tremaining: 17s\n",
      "54:\tlearn: 0.6509013\ttotal: 2m 35s\tremaining: 14.1s\n",
      "55:\tlearn: 0.6504508\ttotal: 2m 38s\tremaining: 11.3s\n",
      "56:\tlearn: 0.6502207\ttotal: 2m 40s\tremaining: 8.46s\n",
      "57:\tlearn: 0.6500643\ttotal: 2m 43s\tremaining: 5.63s\n",
      "58:\tlearn: 0.6496358\ttotal: 2m 46s\tremaining: 2.81s\n",
      "59:\tlearn: 0.6493706\ttotal: 2m 48s\tremaining: 0us\n"
     ]
    },
    {
     "data": {
      "text/plain": "<catboost.core.CatBoostRanker at 0x7dc75cc63410>"
     },
     "execution_count": 52,
     "metadata": {},
     "output_type": "execute_result"
    }
   ],
   "source": [
    "model.fit(train_pool)"
   ],
   "metadata": {
    "collapsed": false,
    "ExecuteTime": {
     "end_time": "2024-04-23T18:44:12.372419487Z",
     "start_time": "2024-04-23T18:41:22.583652119Z"
    }
   },
   "id": "e726d5ef4041c00",
   "execution_count": 52
  },
  {
   "cell_type": "code",
   "outputs": [
    {
     "data": {
      "text/plain": "0.9019567370041385"
     },
     "execution_count": 63,
     "metadata": {},
     "output_type": "execute_result"
    }
   ],
   "source": [
    "predictions = model.predict(test_pool)\n",
    "\n",
    "def calculate_ndcg(y_true, y_pred, k=10):\n",
    "    ndcg = ndcg_score([y_true], [y_pred], k=k)\n",
    "    return ndcg\n",
    "\n",
    "ndcg_value = calculate_ndcg(y_test, predictions, k=None)\n",
    "ndcg_value"
   ],
   "metadata": {
    "collapsed": false,
    "ExecuteTime": {
     "end_time": "2024-04-23T18:45:36.030520037Z",
     "start_time": "2024-04-23T18:45:35.993819288Z"
    }
   },
   "id": "78be318e1c1a53f4",
   "execution_count": 63
  },
  {
   "cell_type": "code",
   "outputs": [
    {
     "data": {
      "text/plain": "1.0"
     },
     "execution_count": 73,
     "metadata": {},
     "output_type": "execute_result"
    }
   ],
   "source": [
    "ndcg_score([[1, 2], [2, 4]], [[1, 3], [1, 2]], k=1)"
   ],
   "metadata": {
    "collapsed": false,
    "ExecuteTime": {
     "end_time": "2024-04-23T18:47:48.953059442Z",
     "start_time": "2024-04-23T18:47:48.944411370Z"
    }
   },
   "id": "4d34f0cf764acdf2",
   "execution_count": 73
  },
  {
   "cell_type": "code",
   "outputs": [
    {
     "data": {
      "text/plain": "array([ 0.07216183, -0.03240059, -0.45296262, ...,  0.13874227,\n       -0.45417088, -0.43387921])"
     },
     "execution_count": 55,
     "metadata": {},
     "output_type": "execute_result"
    }
   ],
   "source": [
    "predictions"
   ],
   "metadata": {
    "collapsed": false,
    "ExecuteTime": {
     "end_time": "2024-04-23T18:45:01.122623201Z",
     "start_time": "2024-04-23T18:45:01.104587964Z"
    }
   },
   "id": "591a1859d1f35fd2",
   "execution_count": 55
  },
  {
   "cell_type": "code",
   "outputs": [],
   "source": [],
   "metadata": {
    "collapsed": false
   },
   "id": "b6832333c2483811"
  }
 ],
 "metadata": {
  "kernelspec": {
   "display_name": "Python 3",
   "language": "python",
   "name": "python3"
  },
  "language_info": {
   "codemirror_mode": {
    "name": "ipython",
    "version": 2
   },
   "file_extension": ".py",
   "mimetype": "text/x-python",
   "name": "python",
   "nbconvert_exporter": "python",
   "pygments_lexer": "ipython2",
   "version": "2.7.6"
  }
 },
 "nbformat": 4,
 "nbformat_minor": 5
}
