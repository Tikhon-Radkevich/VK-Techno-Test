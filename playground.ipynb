{
 "cells": [
  {
   "cell_type": "code",
   "execution_count": 46,
   "id": "initial_id",
   "metadata": {
    "collapsed": true,
    "ExecuteTime": {
     "end_time": "2024-04-23T18:56:51.461962983Z",
     "start_time": "2024-04-23T18:56:51.406728071Z"
    }
   },
   "outputs": [],
   "source": [
    "import pandas as pd"
   ]
  },
  {
   "cell_type": "code",
   "outputs": [],
   "source": [
    "data_path = \"data/intern_task.csv\""
   ],
   "metadata": {
    "collapsed": false,
    "ExecuteTime": {
     "end_time": "2024-04-23T18:56:51.861235521Z",
     "start_time": "2024-04-23T18:56:51.853090868Z"
    }
   },
   "id": "f50bd9573476ff52",
   "execution_count": 47
  },
  {
   "cell_type": "code",
   "outputs": [
    {
     "data": {
      "text/plain": "   rank  query_id  feature_0  feature_1  feature_2  feature_3  feature_4  \\\n0     0        10        1.0        0.0        1.0        3.0        3.0   \n1     1        10        3.0        0.0        3.0        0.0        3.0   \n2     0        10        3.0        0.0        2.0        0.0        3.0   \n3     1        10        3.0        0.0        3.0        0.0        3.0   \n4     2        10        3.0        0.0        3.0        1.0        3.0   \n5     1        10        3.0        0.0        3.0        1.0        3.0   \n6     1        10        3.0        0.0        3.0        0.0        3.0   \n7     0        10        0.0        0.0        0.0        0.0        0.0   \n8     0        10        2.0        0.0        1.0        0.0        2.0   \n9     0        10        3.0        0.0        0.0        0.0        3.0   \n\n   feature_5  feature_6  feature_7  ...  feature_134  feature_135  \\\n0   0.333333        0.0   0.333333  ...          0.0     0.000000   \n1   1.000000        0.0   1.000000  ...          0.0     0.000000   \n2   1.000000        0.0   0.666667  ...          0.0     0.000000   \n3   1.000000        0.0   1.000000  ...          0.0     0.000000   \n4   1.000000        0.0   1.000000  ...        273.0    79.670665   \n5   1.000000        0.0   1.000000  ...          0.0     0.000000   \n6   1.000000        0.0   1.000000  ...          3.0    16.200000   \n7   0.000000        0.0   0.000000  ...          0.0     0.000000   \n8   0.666667        0.0   0.333333  ...        218.0    55.069946   \n9   1.000000        0.0   0.000000  ...          0.0     0.000000   \n\n   feature_136  feature_137  feature_138  feature_139  feature_140  \\\n0     0.454545     0.890238     8.655534     1.000000     0.077778   \n1     0.000000     0.773976    23.130514     0.000000     0.027826   \n2     0.000000     0.918308    13.351339     0.000000     0.014925   \n3     0.000000     0.975355    18.240926     0.000000     0.053140   \n4     0.200000     0.990119    31.786048     0.333333     0.046512   \n5     0.200000     0.974819    22.936731     0.333333     0.033233   \n6     0.000000     0.945281    18.240926     0.000000     0.013008   \n7     0.000000     0.000000     0.000000     0.000000     0.000000   \n8     0.000000     0.448807     4.695805     0.000000     0.002153   \n9     0.000000     0.975608     0.000000     0.000000     0.021583   \n\n   feature_141  feature_142  feature_143  \n0     0.002222          1.0     0.333333  \n1     0.000430         44.0    14.666667  \n2     0.000104         22.0     7.333333  \n3     0.000255          8.0     2.666667  \n4     0.000307         24.0     8.000000  \n5     0.000093         28.0     9.333333  \n6     0.000023          5.0     1.666667  \n7     0.000000          0.0     0.000000  \n8     0.000002          5.0     1.666667  \n9     0.000040          9.0     3.000000  \n\n[10 rows x 146 columns]",
      "text/html": "<div>\n<style scoped>\n    .dataframe tbody tr th:only-of-type {\n        vertical-align: middle;\n    }\n\n    .dataframe tbody tr th {\n        vertical-align: top;\n    }\n\n    .dataframe thead th {\n        text-align: right;\n    }\n</style>\n<table border=\"1\" class=\"dataframe\">\n  <thead>\n    <tr style=\"text-align: right;\">\n      <th></th>\n      <th>rank</th>\n      <th>query_id</th>\n      <th>feature_0</th>\n      <th>feature_1</th>\n      <th>feature_2</th>\n      <th>feature_3</th>\n      <th>feature_4</th>\n      <th>feature_5</th>\n      <th>feature_6</th>\n      <th>feature_7</th>\n      <th>...</th>\n      <th>feature_134</th>\n      <th>feature_135</th>\n      <th>feature_136</th>\n      <th>feature_137</th>\n      <th>feature_138</th>\n      <th>feature_139</th>\n      <th>feature_140</th>\n      <th>feature_141</th>\n      <th>feature_142</th>\n      <th>feature_143</th>\n    </tr>\n  </thead>\n  <tbody>\n    <tr>\n      <th>0</th>\n      <td>0</td>\n      <td>10</td>\n      <td>1.0</td>\n      <td>0.0</td>\n      <td>1.0</td>\n      <td>3.0</td>\n      <td>3.0</td>\n      <td>0.333333</td>\n      <td>0.0</td>\n      <td>0.333333</td>\n      <td>...</td>\n      <td>0.0</td>\n      <td>0.000000</td>\n      <td>0.454545</td>\n      <td>0.890238</td>\n      <td>8.655534</td>\n      <td>1.000000</td>\n      <td>0.077778</td>\n      <td>0.002222</td>\n      <td>1.0</td>\n      <td>0.333333</td>\n    </tr>\n    <tr>\n      <th>1</th>\n      <td>1</td>\n      <td>10</td>\n      <td>3.0</td>\n      <td>0.0</td>\n      <td>3.0</td>\n      <td>0.0</td>\n      <td>3.0</td>\n      <td>1.000000</td>\n      <td>0.0</td>\n      <td>1.000000</td>\n      <td>...</td>\n      <td>0.0</td>\n      <td>0.000000</td>\n      <td>0.000000</td>\n      <td>0.773976</td>\n      <td>23.130514</td>\n      <td>0.000000</td>\n      <td>0.027826</td>\n      <td>0.000430</td>\n      <td>44.0</td>\n      <td>14.666667</td>\n    </tr>\n    <tr>\n      <th>2</th>\n      <td>0</td>\n      <td>10</td>\n      <td>3.0</td>\n      <td>0.0</td>\n      <td>2.0</td>\n      <td>0.0</td>\n      <td>3.0</td>\n      <td>1.000000</td>\n      <td>0.0</td>\n      <td>0.666667</td>\n      <td>...</td>\n      <td>0.0</td>\n      <td>0.000000</td>\n      <td>0.000000</td>\n      <td>0.918308</td>\n      <td>13.351339</td>\n      <td>0.000000</td>\n      <td>0.014925</td>\n      <td>0.000104</td>\n      <td>22.0</td>\n      <td>7.333333</td>\n    </tr>\n    <tr>\n      <th>3</th>\n      <td>1</td>\n      <td>10</td>\n      <td>3.0</td>\n      <td>0.0</td>\n      <td>3.0</td>\n      <td>0.0</td>\n      <td>3.0</td>\n      <td>1.000000</td>\n      <td>0.0</td>\n      <td>1.000000</td>\n      <td>...</td>\n      <td>0.0</td>\n      <td>0.000000</td>\n      <td>0.000000</td>\n      <td>0.975355</td>\n      <td>18.240926</td>\n      <td>0.000000</td>\n      <td>0.053140</td>\n      <td>0.000255</td>\n      <td>8.0</td>\n      <td>2.666667</td>\n    </tr>\n    <tr>\n      <th>4</th>\n      <td>2</td>\n      <td>10</td>\n      <td>3.0</td>\n      <td>0.0</td>\n      <td>3.0</td>\n      <td>1.0</td>\n      <td>3.0</td>\n      <td>1.000000</td>\n      <td>0.0</td>\n      <td>1.000000</td>\n      <td>...</td>\n      <td>273.0</td>\n      <td>79.670665</td>\n      <td>0.200000</td>\n      <td>0.990119</td>\n      <td>31.786048</td>\n      <td>0.333333</td>\n      <td>0.046512</td>\n      <td>0.000307</td>\n      <td>24.0</td>\n      <td>8.000000</td>\n    </tr>\n    <tr>\n      <th>5</th>\n      <td>1</td>\n      <td>10</td>\n      <td>3.0</td>\n      <td>0.0</td>\n      <td>3.0</td>\n      <td>1.0</td>\n      <td>3.0</td>\n      <td>1.000000</td>\n      <td>0.0</td>\n      <td>1.000000</td>\n      <td>...</td>\n      <td>0.0</td>\n      <td>0.000000</td>\n      <td>0.200000</td>\n      <td>0.974819</td>\n      <td>22.936731</td>\n      <td>0.333333</td>\n      <td>0.033233</td>\n      <td>0.000093</td>\n      <td>28.0</td>\n      <td>9.333333</td>\n    </tr>\n    <tr>\n      <th>6</th>\n      <td>1</td>\n      <td>10</td>\n      <td>3.0</td>\n      <td>0.0</td>\n      <td>3.0</td>\n      <td>0.0</td>\n      <td>3.0</td>\n      <td>1.000000</td>\n      <td>0.0</td>\n      <td>1.000000</td>\n      <td>...</td>\n      <td>3.0</td>\n      <td>16.200000</td>\n      <td>0.000000</td>\n      <td>0.945281</td>\n      <td>18.240926</td>\n      <td>0.000000</td>\n      <td>0.013008</td>\n      <td>0.000023</td>\n      <td>5.0</td>\n      <td>1.666667</td>\n    </tr>\n    <tr>\n      <th>7</th>\n      <td>0</td>\n      <td>10</td>\n      <td>0.0</td>\n      <td>0.0</td>\n      <td>0.0</td>\n      <td>0.0</td>\n      <td>0.0</td>\n      <td>0.000000</td>\n      <td>0.0</td>\n      <td>0.000000</td>\n      <td>...</td>\n      <td>0.0</td>\n      <td>0.000000</td>\n      <td>0.000000</td>\n      <td>0.000000</td>\n      <td>0.000000</td>\n      <td>0.000000</td>\n      <td>0.000000</td>\n      <td>0.000000</td>\n      <td>0.0</td>\n      <td>0.000000</td>\n    </tr>\n    <tr>\n      <th>8</th>\n      <td>0</td>\n      <td>10</td>\n      <td>2.0</td>\n      <td>0.0</td>\n      <td>1.0</td>\n      <td>0.0</td>\n      <td>2.0</td>\n      <td>0.666667</td>\n      <td>0.0</td>\n      <td>0.333333</td>\n      <td>...</td>\n      <td>218.0</td>\n      <td>55.069946</td>\n      <td>0.000000</td>\n      <td>0.448807</td>\n      <td>4.695805</td>\n      <td>0.000000</td>\n      <td>0.002153</td>\n      <td>0.000002</td>\n      <td>5.0</td>\n      <td>1.666667</td>\n    </tr>\n    <tr>\n      <th>9</th>\n      <td>0</td>\n      <td>10</td>\n      <td>3.0</td>\n      <td>0.0</td>\n      <td>0.0</td>\n      <td>0.0</td>\n      <td>3.0</td>\n      <td>1.000000</td>\n      <td>0.0</td>\n      <td>0.000000</td>\n      <td>...</td>\n      <td>0.0</td>\n      <td>0.000000</td>\n      <td>0.000000</td>\n      <td>0.975608</td>\n      <td>0.000000</td>\n      <td>0.000000</td>\n      <td>0.021583</td>\n      <td>0.000040</td>\n      <td>9.0</td>\n      <td>3.000000</td>\n    </tr>\n  </tbody>\n</table>\n<p>10 rows × 146 columns</p>\n</div>"
     },
     "execution_count": 48,
     "metadata": {},
     "output_type": "execute_result"
    }
   ],
   "source": [
    "df = pd.read_csv(data_path)\n",
    "df.head(10)"
   ],
   "metadata": {
    "collapsed": false,
    "ExecuteTime": {
     "end_time": "2024-04-23T18:56:55.747956479Z",
     "start_time": "2024-04-23T18:56:52.215708177Z"
    }
   },
   "id": "cad853f9db74feeb",
   "execution_count": 48
  },
  {
   "cell_type": "code",
   "outputs": [
    {
     "data": {
      "text/plain": "rank           0\nquery_id       0\nfeature_0      0\nfeature_1      0\nfeature_2      0\n              ..\nfeature_139    0\nfeature_140    0\nfeature_141    0\nfeature_142    0\nfeature_143    0\nLength: 146, dtype: int64"
     },
     "execution_count": 49,
     "metadata": {},
     "output_type": "execute_result"
    }
   ],
   "source": [
    "df.isna().sum()"
   ],
   "metadata": {
    "collapsed": false,
    "ExecuteTime": {
     "end_time": "2024-04-23T18:56:55.849685638Z",
     "start_time": "2024-04-23T18:56:55.749112867Z"
    }
   },
   "id": "ab704b5d4afc26f3",
   "execution_count": 49
  },
  {
   "cell_type": "code",
   "outputs": [],
   "source": [
    "query_id_values_df = df[\"query_id\"].value_counts()\n",
    "\n",
    "cut_df_query_ids = query_id_values_df[query_id_values_df.values <= 20].keys().values"
   ],
   "metadata": {
    "collapsed": false,
    "ExecuteTime": {
     "end_time": "2024-04-23T18:56:55.850166085Z",
     "start_time": "2024-04-23T18:56:55.791111075Z"
    }
   },
   "id": "28400f84b31ee00",
   "execution_count": 50
  },
  {
   "cell_type": "code",
   "outputs": [
    {
     "data": {
      "text/plain": "       rank  query_id  feature_0  feature_1  feature_2  feature_3  feature_4  \\\n13319     0      1825        1.0        0.0        1.0        0.0        1.0   \n13320     0      1825        0.0        0.0        0.0        0.0        0.0   \n13321     0      1825        2.0        0.0        0.0        0.0        2.0   \n13322     0      1825        1.0        0.0        0.0        0.0        1.0   \n13323     0      1825        2.0        0.0        0.0        0.0        2.0   \n13324     1      1825        1.0        0.0        0.0        0.0        1.0   \n13325     0      1825        1.0        0.0        1.0        0.0        1.0   \n13326     0      1825        0.0        0.0        0.0        0.0        0.0   \n13327     0      1825        1.0        0.0        0.0        0.0        1.0   \n13328     1      1825        1.0        0.0        1.0        1.0        1.0   \n\n       feature_5  feature_6  feature_7  ...  feature_134  feature_135  \\\n13319        0.5        0.0        0.5  ...          0.0          0.0   \n13320        0.0        0.0        0.0  ...          0.0          0.0   \n13321        1.0        0.0        0.0  ...          0.0          0.0   \n13322        0.5        0.0        0.0  ...          0.0          0.0   \n13323        1.0        0.0        0.0  ...          0.0          0.0   \n13324        0.5        0.0        0.0  ...          0.0          0.0   \n13325        0.5        0.0        0.5  ...          0.0          0.0   \n13326        0.0        0.0        0.0  ...          0.0          0.0   \n13327        0.5        0.0        0.0  ...          2.0          9.4   \n13328        0.5        0.0        0.5  ...          1.0          6.8   \n\n       feature_136  feature_137  feature_138  feature_139  feature_140  \\\n13319        0.000     0.379624     9.174194          0.0     0.008427   \n13320        0.000     0.000000     0.000000          0.0     0.000000   \n13321        0.000     0.982561     0.000000          0.0     0.001622   \n13322        0.000     0.379624     0.000000          0.0     0.001592   \n13323        0.000     0.982561     0.000000          0.0     0.000757   \n13324        0.000     0.379624     0.000000          0.0     0.008065   \n13325        0.000     0.379624     9.174194          0.0     0.041667   \n13326        0.000     0.000000     0.000000          0.0     0.000000   \n13327        0.000     0.379624     0.000000          0.0     0.000975   \n13328        0.125     0.379624    18.348388          0.5     0.034448   \n\n       feature_141  feature_142  feature_143  \n13319     0.000055          5.0          2.5  \n13320     0.000000          0.0          0.0  \n13321     0.000000          3.0          1.5  \n13322     0.000003          1.0          0.5  \n13323     0.000000          3.0          1.5  \n13324     0.000081          2.0          1.0  \n13325     0.001338          3.0          1.5  \n13326     0.000000          0.0          0.0  \n13327     0.000001          2.0          1.0  \n13328     0.001132         65.0         32.5  \n\n[10 rows x 146 columns]",
      "text/html": "<div>\n<style scoped>\n    .dataframe tbody tr th:only-of-type {\n        vertical-align: middle;\n    }\n\n    .dataframe tbody tr th {\n        vertical-align: top;\n    }\n\n    .dataframe thead th {\n        text-align: right;\n    }\n</style>\n<table border=\"1\" class=\"dataframe\">\n  <thead>\n    <tr style=\"text-align: right;\">\n      <th></th>\n      <th>rank</th>\n      <th>query_id</th>\n      <th>feature_0</th>\n      <th>feature_1</th>\n      <th>feature_2</th>\n      <th>feature_3</th>\n      <th>feature_4</th>\n      <th>feature_5</th>\n      <th>feature_6</th>\n      <th>feature_7</th>\n      <th>...</th>\n      <th>feature_134</th>\n      <th>feature_135</th>\n      <th>feature_136</th>\n      <th>feature_137</th>\n      <th>feature_138</th>\n      <th>feature_139</th>\n      <th>feature_140</th>\n      <th>feature_141</th>\n      <th>feature_142</th>\n      <th>feature_143</th>\n    </tr>\n  </thead>\n  <tbody>\n    <tr>\n      <th>13319</th>\n      <td>0</td>\n      <td>1825</td>\n      <td>1.0</td>\n      <td>0.0</td>\n      <td>1.0</td>\n      <td>0.0</td>\n      <td>1.0</td>\n      <td>0.5</td>\n      <td>0.0</td>\n      <td>0.5</td>\n      <td>...</td>\n      <td>0.0</td>\n      <td>0.0</td>\n      <td>0.000</td>\n      <td>0.379624</td>\n      <td>9.174194</td>\n      <td>0.0</td>\n      <td>0.008427</td>\n      <td>0.000055</td>\n      <td>5.0</td>\n      <td>2.5</td>\n    </tr>\n    <tr>\n      <th>13320</th>\n      <td>0</td>\n      <td>1825</td>\n      <td>0.0</td>\n      <td>0.0</td>\n      <td>0.0</td>\n      <td>0.0</td>\n      <td>0.0</td>\n      <td>0.0</td>\n      <td>0.0</td>\n      <td>0.0</td>\n      <td>...</td>\n      <td>0.0</td>\n      <td>0.0</td>\n      <td>0.000</td>\n      <td>0.000000</td>\n      <td>0.000000</td>\n      <td>0.0</td>\n      <td>0.000000</td>\n      <td>0.000000</td>\n      <td>0.0</td>\n      <td>0.0</td>\n    </tr>\n    <tr>\n      <th>13321</th>\n      <td>0</td>\n      <td>1825</td>\n      <td>2.0</td>\n      <td>0.0</td>\n      <td>0.0</td>\n      <td>0.0</td>\n      <td>2.0</td>\n      <td>1.0</td>\n      <td>0.0</td>\n      <td>0.0</td>\n      <td>...</td>\n      <td>0.0</td>\n      <td>0.0</td>\n      <td>0.000</td>\n      <td>0.982561</td>\n      <td>0.000000</td>\n      <td>0.0</td>\n      <td>0.001622</td>\n      <td>0.000000</td>\n      <td>3.0</td>\n      <td>1.5</td>\n    </tr>\n    <tr>\n      <th>13322</th>\n      <td>0</td>\n      <td>1825</td>\n      <td>1.0</td>\n      <td>0.0</td>\n      <td>0.0</td>\n      <td>0.0</td>\n      <td>1.0</td>\n      <td>0.5</td>\n      <td>0.0</td>\n      <td>0.0</td>\n      <td>...</td>\n      <td>0.0</td>\n      <td>0.0</td>\n      <td>0.000</td>\n      <td>0.379624</td>\n      <td>0.000000</td>\n      <td>0.0</td>\n      <td>0.001592</td>\n      <td>0.000003</td>\n      <td>1.0</td>\n      <td>0.5</td>\n    </tr>\n    <tr>\n      <th>13323</th>\n      <td>0</td>\n      <td>1825</td>\n      <td>2.0</td>\n      <td>0.0</td>\n      <td>0.0</td>\n      <td>0.0</td>\n      <td>2.0</td>\n      <td>1.0</td>\n      <td>0.0</td>\n      <td>0.0</td>\n      <td>...</td>\n      <td>0.0</td>\n      <td>0.0</td>\n      <td>0.000</td>\n      <td>0.982561</td>\n      <td>0.000000</td>\n      <td>0.0</td>\n      <td>0.000757</td>\n      <td>0.000000</td>\n      <td>3.0</td>\n      <td>1.5</td>\n    </tr>\n    <tr>\n      <th>13324</th>\n      <td>1</td>\n      <td>1825</td>\n      <td>1.0</td>\n      <td>0.0</td>\n      <td>0.0</td>\n      <td>0.0</td>\n      <td>1.0</td>\n      <td>0.5</td>\n      <td>0.0</td>\n      <td>0.0</td>\n      <td>...</td>\n      <td>0.0</td>\n      <td>0.0</td>\n      <td>0.000</td>\n      <td>0.379624</td>\n      <td>0.000000</td>\n      <td>0.0</td>\n      <td>0.008065</td>\n      <td>0.000081</td>\n      <td>2.0</td>\n      <td>1.0</td>\n    </tr>\n    <tr>\n      <th>13325</th>\n      <td>0</td>\n      <td>1825</td>\n      <td>1.0</td>\n      <td>0.0</td>\n      <td>1.0</td>\n      <td>0.0</td>\n      <td>1.0</td>\n      <td>0.5</td>\n      <td>0.0</td>\n      <td>0.5</td>\n      <td>...</td>\n      <td>0.0</td>\n      <td>0.0</td>\n      <td>0.000</td>\n      <td>0.379624</td>\n      <td>9.174194</td>\n      <td>0.0</td>\n      <td>0.041667</td>\n      <td>0.001338</td>\n      <td>3.0</td>\n      <td>1.5</td>\n    </tr>\n    <tr>\n      <th>13326</th>\n      <td>0</td>\n      <td>1825</td>\n      <td>0.0</td>\n      <td>0.0</td>\n      <td>0.0</td>\n      <td>0.0</td>\n      <td>0.0</td>\n      <td>0.0</td>\n      <td>0.0</td>\n      <td>0.0</td>\n      <td>...</td>\n      <td>0.0</td>\n      <td>0.0</td>\n      <td>0.000</td>\n      <td>0.000000</td>\n      <td>0.000000</td>\n      <td>0.0</td>\n      <td>0.000000</td>\n      <td>0.000000</td>\n      <td>0.0</td>\n      <td>0.0</td>\n    </tr>\n    <tr>\n      <th>13327</th>\n      <td>0</td>\n      <td>1825</td>\n      <td>1.0</td>\n      <td>0.0</td>\n      <td>0.0</td>\n      <td>0.0</td>\n      <td>1.0</td>\n      <td>0.5</td>\n      <td>0.0</td>\n      <td>0.0</td>\n      <td>...</td>\n      <td>2.0</td>\n      <td>9.4</td>\n      <td>0.000</td>\n      <td>0.379624</td>\n      <td>0.000000</td>\n      <td>0.0</td>\n      <td>0.000975</td>\n      <td>0.000001</td>\n      <td>2.0</td>\n      <td>1.0</td>\n    </tr>\n    <tr>\n      <th>13328</th>\n      <td>1</td>\n      <td>1825</td>\n      <td>1.0</td>\n      <td>0.0</td>\n      <td>1.0</td>\n      <td>1.0</td>\n      <td>1.0</td>\n      <td>0.5</td>\n      <td>0.0</td>\n      <td>0.5</td>\n      <td>...</td>\n      <td>1.0</td>\n      <td>6.8</td>\n      <td>0.125</td>\n      <td>0.379624</td>\n      <td>18.348388</td>\n      <td>0.5</td>\n      <td>0.034448</td>\n      <td>0.001132</td>\n      <td>65.0</td>\n      <td>32.5</td>\n    </tr>\n  </tbody>\n</table>\n<p>10 rows × 146 columns</p>\n</div>"
     },
     "execution_count": 51,
     "metadata": {},
     "output_type": "execute_result"
    }
   ],
   "source": [
    "cut_df = df[df[\"query_id\"].isin(cut_df_query_ids)]\n",
    "cut_df.head(10)"
   ],
   "metadata": {
    "collapsed": false,
    "ExecuteTime": {
     "end_time": "2024-04-23T18:56:55.864677709Z",
     "start_time": "2024-04-23T18:56:55.796598194Z"
    }
   },
   "id": "e4e7f20da1ac2c44",
   "execution_count": 51
  },
  {
   "cell_type": "code",
   "outputs": [],
   "source": [],
   "metadata": {
    "collapsed": false,
    "ExecuteTime": {
     "end_time": "2024-04-23T18:56:57.572157810Z",
     "start_time": "2024-04-23T18:56:57.560110803Z"
    }
   },
   "id": "705304ad068e43de",
   "execution_count": 51
  },
  {
   "cell_type": "code",
   "outputs": [],
   "source": [],
   "metadata": {
    "collapsed": false
   },
   "id": "7417f7b1295cdbc2"
  }
 ],
 "metadata": {
  "kernelspec": {
   "display_name": "Python 3",
   "language": "python",
   "name": "python3"
  },
  "language_info": {
   "codemirror_mode": {
    "name": "ipython",
    "version": 2
   },
   "file_extension": ".py",
   "mimetype": "text/x-python",
   "name": "python",
   "nbconvert_exporter": "python",
   "pygments_lexer": "ipython2",
   "version": "2.7.6"
  }
 },
 "nbformat": 4,
 "nbformat_minor": 5
}
