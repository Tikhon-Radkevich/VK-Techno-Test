{
 "cells": [
  {
   "cell_type": "markdown",
   "source": [
    "## PCA\n"
   ],
   "metadata": {
    "collapsed": false
   },
   "id": "9c1bb7afee1232f9"
  },
  {
   "cell_type": "code",
   "outputs": [],
   "source": [
    "from sklearn.preprocessing import StandardScaler\n",
    "from sklearn.decomposition import PCA"
   ],
   "metadata": {
    "collapsed": false,
    "ExecuteTime": {
     "end_time": "2024-04-26T18:55:27.186393650Z",
     "start_time": "2024-04-26T18:55:26.999796453Z"
    }
   },
   "id": "b932ce84247317e0",
   "execution_count": 1
  },
  {
   "cell_type": "code",
   "outputs": [
    {
     "ename": "NameError",
     "evalue": "name 'df' is not defined",
     "output_type": "error",
     "traceback": [
      "\u001B[0;31m---------------------------------------------------------------------------\u001B[0m",
      "\u001B[0;31mNameError\u001B[0m                                 Traceback (most recent call last)",
      "Cell \u001B[0;32mIn[2], line 1\u001B[0m\n\u001B[0;32m----> 1\u001B[0m features_for_pca \u001B[38;5;241m=\u001B[39m \u001B[43mdf\u001B[49m\u001B[38;5;241m.\u001B[39mdrop(columns\u001B[38;5;241m=\u001B[39m[\u001B[38;5;124m\"\u001B[39m\u001B[38;5;124mrank\u001B[39m\u001B[38;5;124m\"\u001B[39m, \u001B[38;5;124m\"\u001B[39m\u001B[38;5;124mquery_id\u001B[39m\u001B[38;5;124m\"\u001B[39m])\n\u001B[1;32m      3\u001B[0m scaler \u001B[38;5;241m=\u001B[39m StandardScaler()\n\u001B[1;32m      4\u001B[0m features_scaled \u001B[38;5;241m=\u001B[39m scaler\u001B[38;5;241m.\u001B[39mfit_transform(features_for_pca)\n",
      "\u001B[0;31mNameError\u001B[0m: name 'df' is not defined"
     ]
    }
   ],
   "source": [
    "features_for_pca = df.drop(columns=[\"rank\", \"query_id\"])\n",
    "\n",
    "scaler = StandardScaler()\n",
    "features_scaled = scaler.fit_transform(features_for_pca)"
   ],
   "metadata": {
    "collapsed": false,
    "ExecuteTime": {
     "end_time": "2024-04-26T18:55:30.182343880Z",
     "start_time": "2024-04-26T18:55:29.957996578Z"
    }
   },
   "id": "734a0a676884dc5a",
   "execution_count": 2
  },
  {
   "cell_type": "code",
   "outputs": [
    {
     "ename": "NameError",
     "evalue": "name 'features_scaled' is not defined",
     "output_type": "error",
     "traceback": [
      "\u001B[0;31m---------------------------------------------------------------------------\u001B[0m",
      "\u001B[0;31mNameError\u001B[0m                                 Traceback (most recent call last)",
      "Cell \u001B[0;32mIn[3], line 2\u001B[0m\n\u001B[1;32m      1\u001B[0m pca \u001B[38;5;241m=\u001B[39m PCA()\n\u001B[0;32m----> 2\u001B[0m features_pca \u001B[38;5;241m=\u001B[39m pca\u001B[38;5;241m.\u001B[39mfit_transform(\u001B[43mfeatures_scaled\u001B[49m)\n",
      "\u001B[0;31mNameError\u001B[0m: name 'features_scaled' is not defined"
     ]
    }
   ],
   "source": [
    "pca = PCA()\n",
    "features_pca = pca.fit_transform(features_scaled)"
   ],
   "metadata": {
    "collapsed": false,
    "ExecuteTime": {
     "end_time": "2024-04-26T18:55:39.358326239Z",
     "start_time": "2024-04-26T18:55:39.343141235Z"
    }
   },
   "id": "191a5d93d4e731e0",
   "execution_count": 3
  },
  {
   "cell_type": "code",
   "outputs": [
    {
     "ename": "AttributeError",
     "evalue": "'PCA' object has no attribute 'explained_variance_ratio_'",
     "output_type": "error",
     "traceback": [
      "\u001B[0;31m---------------------------------------------------------------------------\u001B[0m",
      "\u001B[0;31mAttributeError\u001B[0m                            Traceback (most recent call last)",
      "Cell \u001B[0;32mIn[4], line 2\u001B[0m\n\u001B[1;32m      1\u001B[0m \u001B[38;5;66;03m# Объясненная дисперсия каждой компоненты\u001B[39;00m\n\u001B[0;32m----> 2\u001B[0m explained_variance \u001B[38;5;241m=\u001B[39m \u001B[43mpca\u001B[49m\u001B[38;5;241;43m.\u001B[39;49m\u001B[43mexplained_variance_ratio_\u001B[49m\n\u001B[1;32m      4\u001B[0m \u001B[38;5;66;03m# Суммарная объясненная дисперсия для кумулятивной суммы\u001B[39;00m\n\u001B[1;32m      5\u001B[0m cumulative_variance \u001B[38;5;241m=\u001B[39m np\u001B[38;5;241m.\u001B[39mcumsum(explained_variance)\n",
      "\u001B[0;31mAttributeError\u001B[0m: 'PCA' object has no attribute 'explained_variance_ratio_'"
     ]
    }
   ],
   "source": [
    "# Объясненная дисперсия каждой компоненты\n",
    "explained_variance = pca.explained_variance_ratio_\n",
    "\n",
    "# Суммарная объясненная дисперсия для кумулятивной суммы\n",
    "cumulative_variance = np.cumsum(explained_variance)\n",
    "\n",
    "explained_variance, cumulative_variance"
   ],
   "metadata": {
    "collapsed": false,
    "ExecuteTime": {
     "end_time": "2024-04-26T18:55:46.726258768Z",
     "start_time": "2024-04-26T18:55:46.713927912Z"
    }
   },
   "id": "2b27685196256ae0",
   "execution_count": 4
  },
  {
   "cell_type": "code",
   "outputs": [
    {
     "ename": "AttributeError",
     "evalue": "'PCA' object has no attribute 'components_'",
     "output_type": "error",
     "traceback": [
      "\u001B[0;31m---------------------------------------------------------------------------\u001B[0m",
      "\u001B[0;31mAttributeError\u001B[0m                            Traceback (most recent call last)",
      "Cell \u001B[0;32mIn[5], line 2\u001B[0m\n\u001B[1;32m      1\u001B[0m num_components \u001B[38;5;241m=\u001B[39m \u001B[38;5;241m5\u001B[39m\n\u001B[0;32m----> 2\u001B[0m loadings \u001B[38;5;241m=\u001B[39m \u001B[43mpca\u001B[49m\u001B[38;5;241;43m.\u001B[39;49m\u001B[43mcomponents_\u001B[49m[:num_components]\n\u001B[1;32m      4\u001B[0m fig, axes \u001B[38;5;241m=\u001B[39m plt\u001B[38;5;241m.\u001B[39msubplots(nrows\u001B[38;5;241m=\u001B[39mnum_components, figsize\u001B[38;5;241m=\u001B[39m(\u001B[38;5;241m10\u001B[39m, num_components \u001B[38;5;241m*\u001B[39m \u001B[38;5;241m2\u001B[39m), dpi\u001B[38;5;241m=\u001B[39m\u001B[38;5;241m100\u001B[39m)\n\u001B[1;32m      6\u001B[0m \u001B[38;5;28;01mfor\u001B[39;00m i, ax \u001B[38;5;129;01min\u001B[39;00m \u001B[38;5;28menumerate\u001B[39m(axes):\n",
      "\u001B[0;31mAttributeError\u001B[0m: 'PCA' object has no attribute 'components_'"
     ]
    }
   ],
   "source": [
    "num_components = 5\n",
    "loadings = pca.components_[:num_components]\n",
    "\n",
    "fig, axes = plt.subplots(nrows=num_components, figsize=(10, num_components * 2), dpi=100)\n",
    "\n",
    "for i, ax in enumerate(axes):\n",
    "    components_loadings = loadings[i]\n",
    "    ax.bar(range(len(components_loadings)), components_loadings)\n",
    "    ax.set_title(f\"Component {i+1}\")\n",
    "    ax.set_ylabel(\"Loading Value\")\n",
    "\n",
    "plt.tight_layout()\n",
    "plt.show()"
   ],
   "metadata": {
    "collapsed": false,
    "ExecuteTime": {
     "end_time": "2024-04-26T18:55:53.925220719Z",
     "start_time": "2024-04-26T18:55:53.886975118Z"
    }
   },
   "id": "fefdc274b176e9e8",
   "execution_count": 5
  },
  {
   "cell_type": "code",
   "outputs": [
    {
     "ename": "NameError",
     "evalue": "name 'pd' is not defined",
     "output_type": "error",
     "traceback": [
      "\u001B[0;31m---------------------------------------------------------------------------\u001B[0m",
      "\u001B[0;31mNameError\u001B[0m                                 Traceback (most recent call last)",
      "Cell \u001B[0;32mIn[6], line 5\u001B[0m\n\u001B[1;32m      2\u001B[0m n_components \u001B[38;5;241m=\u001B[39m \u001B[38;5;241m20\u001B[39m\n\u001B[1;32m      4\u001B[0m \u001B[38;5;66;03m# Создание нового DataFrame с первыми n_components главными компонентами\u001B[39;00m\n\u001B[0;32m----> 5\u001B[0m new_features \u001B[38;5;241m=\u001B[39m \u001B[43mpd\u001B[49m\u001B[38;5;241m.\u001B[39mDataFrame(features_pca[:, :n_components], columns\u001B[38;5;241m=\u001B[39m[\u001B[38;5;124mf\u001B[39m\u001B[38;5;124m\"\u001B[39m\u001B[38;5;124mPC\u001B[39m\u001B[38;5;132;01m{\u001B[39;00mi\u001B[38;5;241m+\u001B[39m\u001B[38;5;241m1\u001B[39m\u001B[38;5;132;01m}\u001B[39;00m\u001B[38;5;124m\"\u001B[39m \u001B[38;5;28;01mfor\u001B[39;00m i \u001B[38;5;129;01min\u001B[39;00m \u001B[38;5;28mrange\u001B[39m(n_components)])\n\u001B[1;32m      7\u001B[0m \u001B[38;5;66;03m# Проверка первых нескольких строк нового DataFrame\u001B[39;00m\n\u001B[1;32m      8\u001B[0m new_features\u001B[38;5;241m.\u001B[39mhead()\n",
      "\u001B[0;31mNameError\u001B[0m: name 'pd' is not defined"
     ]
    }
   ],
   "source": [
    "# Количество компонент, которое ты решил использовать\n",
    "n_components = 20\n",
    "\n",
    "# Создание нового DataFrame с первыми n_components главными компонентами\n",
    "new_features = pd.DataFrame(features_pca[:, :n_components], columns=[f\"PC{i+1}\" for i in range(n_components)])\n",
    "\n",
    "# Проверка первых нескольких строк нового DataFrame\n",
    "new_features.head()"
   ],
   "metadata": {
    "collapsed": false,
    "ExecuteTime": {
     "end_time": "2024-04-26T18:55:59.589319584Z",
     "start_time": "2024-04-26T18:55:59.541667960Z"
    }
   },
   "id": "9c804875c6ed8f87",
   "execution_count": 6
  },
  {
   "cell_type": "code",
   "outputs": [],
   "source": [
    "new_features.describe()"
   ],
   "metadata": {
    "collapsed": false
   },
   "id": "3393928d4954f017"
  }
 ],
 "metadata": {
  "kernelspec": {
   "display_name": "Python 3",
   "language": "python",
   "name": "python3"
  },
  "language_info": {
   "codemirror_mode": {
    "name": "ipython",
    "version": 2
   },
   "file_extension": ".py",
   "mimetype": "text/x-python",
   "name": "python",
   "nbconvert_exporter": "python",
   "pygments_lexer": "ipython2",
   "version": "2.7.6"
  }
 },
 "nbformat": 4,
 "nbformat_minor": 5
}
